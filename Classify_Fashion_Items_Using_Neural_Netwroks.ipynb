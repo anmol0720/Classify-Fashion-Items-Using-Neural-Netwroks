{
  "nbformat": 4,
  "nbformat_minor": 0,
  "metadata": {
    "colab": {
      "name": "Classify Fashion Items Using Neural Netwroks",
      "provenance": [],
      "authorship_tag": "ABX9TyOOjZImfrM9fY9e5JT0XUqI",
      "include_colab_link": true
    },
    "kernelspec": {
      "name": "python3",
      "display_name": "Python 3"
    }
  },
  "cells": [
    {
      "cell_type": "markdown",
      "metadata": {
        "id": "view-in-github",
        "colab_type": "text"
      },
      "source": [
        "<a href=\"https://colab.research.google.com/github/anmol0720/Classify-Fashion-Items-Using-Neural-Netwroks/blob/master/Classify_Fashion_Items_Using_Neural_Netwroks.ipynb\" target=\"_parent\"><img src=\"https://colab.research.google.com/assets/colab-badge.svg\" alt=\"Open In Colab\"/></a>"
      ]
    },
    {
      "cell_type": "code",
      "metadata": {
        "id": "kFAlCrfsf68w",
        "colab_type": "code",
        "colab": {}
      },
      "source": [
        "import numpy as np\n",
        "import pandas as pd\n",
        "%matplotlib inline\n",
        "import matplotlib as npl\n",
        "import matplotlib.pyplot as plt"
      ],
      "execution_count": 0,
      "outputs": []
    },
    {
      "cell_type": "code",
      "metadata": {
        "id": "BlSMJqLAwnoA",
        "colab_type": "code",
        "colab": {}
      },
      "source": [
        "import tensorflow as tf"
      ],
      "execution_count": 0,
      "outputs": []
    },
    {
      "cell_type": "code",
      "metadata": {
        "id": "zvmM-mH3wqun",
        "colab_type": "code",
        "colab": {}
      },
      "source": [
        "from tensorflow import keras"
      ],
      "execution_count": 0,
      "outputs": []
    },
    {
      "cell_type": "code",
      "metadata": {
        "id": "yEcS5Gjoww7q",
        "colab_type": "code",
        "colab": {
          "base_uri": "https://localhost:8080/",
          "height": 34
        },
        "outputId": "0fed2470-b1bd-4cfd-d007-46ee82e90a5f"
      },
      "source": [
        "tf.__version__"
      ],
      "execution_count": 156,
      "outputs": [
        {
          "output_type": "execute_result",
          "data": {
            "text/plain": [
              "'2.2.0-rc3'"
            ]
          },
          "metadata": {
            "tags": []
          },
          "execution_count": 156
        }
      ]
    },
    {
      "cell_type": "code",
      "metadata": {
        "id": "x24foMesw0U1",
        "colab_type": "code",
        "colab": {
          "base_uri": "https://localhost:8080/",
          "height": 34
        },
        "outputId": "fce1b124-cc16-446e-dec9-acc821d514b7"
      },
      "source": [
        "keras.__version__"
      ],
      "execution_count": 157,
      "outputs": [
        {
          "output_type": "execute_result",
          "data": {
            "text/plain": [
              "'2.3.0-tf'"
            ]
          },
          "metadata": {
            "tags": []
          },
          "execution_count": 157
        }
      ]
    },
    {
      "cell_type": "code",
      "metadata": {
        "id": "clpbifDtxC7G",
        "colab_type": "code",
        "colab": {}
      },
      "source": [
        "fas=keras.datasets.fashion_mnist"
      ],
      "execution_count": 0,
      "outputs": []
    },
    {
      "cell_type": "code",
      "metadata": {
        "id": "70wdet5GxXAS",
        "colab_type": "code",
        "colab": {}
      },
      "source": [
        "(x_train_t,y_train_t),(x_test,y_test)=fas.load_data()"
      ],
      "execution_count": 0,
      "outputs": []
    },
    {
      "cell_type": "code",
      "metadata": {
        "id": "l9daOEJXxqKF",
        "colab_type": "code",
        "colab": {
          "base_uri": "https://localhost:8080/",
          "height": 282
        },
        "outputId": "47381ddd-a9c0-43ee-9071-85676ce5bbca"
      },
      "source": [
        "plt.imshow(x_train_t[7])"
      ],
      "execution_count": 160,
      "outputs": [
        {
          "output_type": "execute_result",
          "data": {
            "text/plain": [
              "<matplotlib.image.AxesImage at 0x7f43a662f160>"
            ]
          },
          "metadata": {
            "tags": []
          },
          "execution_count": 160
        },
        {
          "output_type": "display_data",
          "data": {
            "image/png": "[encoded data removed]",
            "text/plain": [
              "<Figure size 432x288 with 1 Axes>"
            ]
          },
          "metadata": {
            "tags": [],
            "needs_background": "light"
          }
        }
      ]
    },
    {
      "cell_type": "code",
      "metadata": {
        "id": "T45u1FFMyRBQ",
        "colab_type": "code",
        "colab": {
          "base_uri": "https://localhost:8080/",
          "height": 34
        },
        "outputId": "13f43b66-1a7a-422d-97f3-17f44c52b12d"
      },
      "source": [
        "y_train_t[7]"
      ],
      "execution_count": 161,
      "outputs": [
        {
          "output_type": "execute_result",
          "data": {
            "text/plain": [
              "2"
            ]
          },
          "metadata": {
            "tags": []
          },
          "execution_count": 161
        }
      ]
    },
    {
      "cell_type": "code",
      "metadata": {
        "id": "q-ShW-h5yZm4",
        "colab_type": "code",
        "colab": {}
      },
      "source": [
        "class_name=['T-shirt/Top','Trouser','Pullover','Dress','Coat','Sandal','Shirt','Sneaker','Bag','Ankle Boot']"
      ],
      "execution_count": 0,
      "outputs": []
    },
    {
      "cell_type": "code",
      "metadata": {
        "id": "jaAtShx-y1Vj",
        "colab_type": "code",
        "colab": {
          "base_uri": "https://localhost:8080/",
          "height": 34
        },
        "outputId": "e4afd873-c378-44ab-e1c3-8598ab9034c3"
      },
      "source": [
        "class_name[y_train_t[7]]"
      ],
      "execution_count": 163,
      "outputs": [
        {
          "output_type": "execute_result",
          "data": {
            "text/plain": [
              "'Pullover'"
            ]
          },
          "metadata": {
            "tags": []
          },
          "execution_count": 163
        }
      ]
    },
    {
      "cell_type": "markdown",
      "metadata": {
        "id": "fF9aNksozAxf",
        "colab_type": "text"
      },
      "source": [
        "*These all Categories are Predefined*"
      ]
    },
    {
      "cell_type": "code",
      "metadata": {
        "id": "ibPI9ajty_Zi",
        "colab_type": "code",
        "colab": {
          "base_uri": "https://localhost:8080/",
          "height": 1000
        },
        "outputId": "54e13186-40b4-4ae1-b930-afd568b4fcd3"
      },
      "source": [
        "x_train_t[7]"
      ],
      "execution_count": 164,
      "outputs": [
        {
          "output_type": "execute_result",
          "data": {
            "text/plain": [
              "array([[  0,   0,   0,   0,   0,   1,   1,   0,   0,   0,   0,  63,  28,\n",
              "          0,   0,   0,  33,  85,   0,   0,   0,   0,   0,   0,   0,   0,\n",
              "          0,   0],\n",
              "       [  0,   0,   0,   0,   0,   2,   0,   0,  28, 126, 241, 255, 255,\n",
              "        255, 255, 255, 255, 252, 248, 111,   0,   0,   0,   2,   0,   0,\n",
              "          0,   0],\n",
              "       [  0,   0,   0,   0,   2,   0,   0, 206, 244, 251, 241, 230, 238,\n",
              "        221, 205, 230, 240, 230, 239, 251, 233, 165,   0,   0,   2,   0,\n",
              "          0,   0],\n",
              "       [  0,   0,   0,   1,   0,   0, 199, 251, 228, 234, 233, 236, 235,\n",
              "        245, 247, 237, 234, 239, 230, 230, 235, 255, 176,   0,   0,   1,\n",
              "          0,   0],\n",
              "       [  0,   0,   0,   0,   0,  81, 254, 226, 228, 239, 237, 236, 234,\n",
              "        232, 233, 235, 235, 236, 239, 237, 233, 225, 246,  73,   0,   0,\n",
              "          0,   0],\n",
              "       [  0,   0,   3,   0,   0, 255, 235, 239, 223, 234, 238, 236, 237,\n",
              "        236, 235, 235, 235, 235, 236, 235, 234, 230, 231, 255,  24,   0,\n",
              "          4,   0],\n",
              "       [  0,   0,   0,   0, 177, 239, 223, 254, 223, 232, 234, 234, 236,\n",
              "        236, 235, 235, 235, 235, 235, 234, 231, 233, 222, 246,  88,   0,\n",
              "          1,   0],\n",
              "       [  0,   0,   0,   0, 234, 239, 229, 255, 220, 232, 233, 232, 234,\n",
              "        235, 235, 235, 235, 235, 234, 233, 232, 230, 228, 254, 140,   0,\n",
              "          0,   0],\n",
              "       [  0,   0,   0,   0, 225, 240, 226, 255, 221, 227, 232, 228, 231,\n",
              "        230, 228, 229, 231, 230, 228, 228, 232, 223, 229, 244, 231,   0,\n",
              "          0,   0],\n",
              "       [  0,   0,   0,  47, 245, 231, 234, 249, 229, 221, 229, 225, 229,\n",
              "        227, 226, 227, 228, 227, 228, 229, 228, 224, 246, 240, 227,   0,\n",
              "          0,   0],\n",
              "       [  0,   0,   0,  51, 248, 230, 245, 246, 230, 226, 230, 227, 230,\n",
              "        229, 228, 229, 230, 228, 228, 231, 225, 227, 242, 237, 255,   0,\n",
              "          0,   0],\n",
              "       [  0,   0,   0, 101, 253, 229, 247, 241, 221, 233, 228, 227, 229,\n",
              "        228, 227, 228, 230, 227, 230, 234, 225, 229, 251, 229, 243,  55,\n",
              "          0,   0],\n",
              "       [  0,   0,   0, 102, 255, 227, 242, 241, 221, 234, 223, 230, 228,\n",
              "        231, 229, 231, 231, 227, 229, 241, 219, 236, 254, 225, 250, 167,\n",
              "          0,   0],\n",
              "       [  0,   0,   0,  90, 255, 229, 236, 231, 222, 236, 223, 231, 229,\n",
              "        231, 229, 231, 231, 228, 224, 245, 218, 243, 239, 227, 244, 175,\n",
              "          0,   0],\n",
              "       [  0,   0,   0, 212, 250, 225, 236, 249, 229, 237, 223, 231, 229,\n",
              "        231, 229, 231, 231, 230, 221, 243, 225, 248, 230, 236, 234, 255,\n",
              "          1,   0],\n",
              "       [  0,   0,   0, 245, 243, 232, 243, 218, 228, 238, 222, 231, 229,\n",
              "        231, 229, 231, 231, 230, 222, 237, 237, 252, 229, 239, 240, 223,\n",
              "          0,   0],\n",
              "       [  0,   0,  27, 255, 235, 242, 237, 216, 230, 236, 224, 229, 227,\n",
              "        233, 233, 233, 230, 228, 224, 230, 245, 247, 221, 243, 239, 252,\n",
              "          0,   0],\n",
              "       [  0,   0,  88, 255, 232, 248, 236, 208, 234, 231, 223, 227, 226,\n",
              "        233, 232, 232, 230, 228, 224, 224, 235, 233, 234, 247, 235, 255,\n",
              "          0,   0],\n",
              "       [  0,   0,  83, 255, 225, 250, 237, 224, 236, 229, 225, 225, 227,\n",
              "        235, 229, 231, 230, 230, 227, 221, 227, 221, 239, 250, 231, 255,\n",
              "          0,   0],\n",
              "       [  0,   0,  20, 255, 224, 248, 234, 226, 232, 222, 225, 224, 231,\n",
              "        238, 226, 230, 228, 230, 230, 221, 229, 225, 244, 246, 230, 255,\n",
              "          0,   0],\n",
              "       [  0,   0,  95, 255, 218, 242, 255, 232, 226, 224, 229, 228, 228,\n",
              "        232, 228, 229, 231, 233, 232, 226, 221, 224, 247, 244, 228, 255,\n",
              "          0,   0],\n",
              "       [  0,   0, 167, 255, 213, 235, 255,  81, 245, 251, 238, 236, 230,\n",
              "        229, 230, 229, 230, 231, 238, 240, 255, 192, 255, 239, 228, 255,\n",
              "         23,   0],\n",
              "       [  0,   0, 173, 242, 224, 233, 255,   0, 136, 226, 239, 255, 229,\n",
              "        236, 236, 234, 233, 228, 251, 248, 200,  81, 255, 237, 225, 255,\n",
              "        101,   0],\n",
              "       [  0,   0, 172, 255, 226, 233, 255,   0,   0,   0,   0,   0,   8,\n",
              "         21,  22,  21,  20,  14,   0,   0,   0,   0, 255, 238, 229, 246,\n",
              "        178,   0],\n",
              "       [  0,   0,  16, 255, 236, 238, 252,   0,   0,   0,   0,   0,   0,\n",
              "          0,   0,   0,   0,   0,   0,   0,   0,   0, 222, 244, 222, 254,\n",
              "        119,   0],\n",
              "       [  0,   0,   0,  30, 228, 242, 163,   0,   0,   0,   0,   2,   4,\n",
              "          6,   5,   5,   4,   4,   2,   0,   1,   0, 151, 251, 235, 180,\n",
              "          0,   0],\n",
              "       [  0,   0,   0,   0, 234, 255, 191,   0,  11,   0,   0,   0,   0,\n",
              "          0,   0,   0,   0,   0,   0,   0,   4,   0, 103, 246, 247,  72,\n",
              "          0,   0],\n",
              "       [  0,   0,   0,   1,  95,  77,  52,   0,   4,   0,   0,   0,   0,\n",
              "          0,   0,   0,   0,   0,   0,   0,   3,   0,  82, 237, 231,  70,\n",
              "          0,   0]], dtype=uint8)"
            ]
          },
          "metadata": {
            "tags": []
          },
          "execution_count": 164
        }
      ]
    },
    {
      "cell_type": "markdown",
      "metadata": {
        "id": "VmP-rsQKzXc9",
        "colab_type": "text"
      },
      "source": [
        "These Represent Pixel Values Row wise"
      ]
    },
    {
      "cell_type": "markdown",
      "metadata": {
        "id": "AxF-OV8S1jpR",
        "colab_type": "text"
      },
      "source": [
        "Data Normalisation"
      ]
    },
    {
      "cell_type": "code",
      "metadata": {
        "id": "Wo9apUU3zedK",
        "colab_type": "code",
        "colab": {}
      },
      "source": [
        "x_train_n=x_train_t/255.\n",
        "x_test_n=x_test/255."
      ],
      "execution_count": 0,
      "outputs": []
    },
    {
      "cell_type": "markdown",
      "metadata": {
        "id": "xOCvdeVa15TF",
        "colab_type": "text"
      },
      "source": [
        "*255 because we know our upper bound*"
      ]
    },
    {
      "cell_type": "markdown",
      "metadata": {
        "id": "_YRN12ka25Da",
        "colab_type": "text"
      },
      "source": [
        "Split Data"
      ]
    },
    {
      "cell_type": "code",
      "metadata": {
        "id": "iI0dhWXOAgzf",
        "colab_type": "code",
        "colab": {}
      },
      "source": [
        "X_valid,X_train=x_train_n[:5000],x_train_n[5000:]"
      ],
      "execution_count": 0,
      "outputs": []
    },
    {
      "cell_type": "code",
      "metadata": {
        "id": "LaUFjxZa12xI",
        "colab_type": "code",
        "colab": {}
      },
      "source": [
        "y_valid,y_train=y_train_t[:5000],y_train_t[5000:]\n",
        "X_test=x_test_n"
      ],
      "execution_count": 0,
      "outputs": []
    },
    {
      "cell_type": "code",
      "metadata": {
        "id": "YSNigWvj_9uu",
        "colab_type": "code",
        "colab": {
          "base_uri": "https://localhost:8080/",
          "height": 34
        },
        "outputId": "ff731e7b-903a-4384-d1d4-3c408e4d2bb9"
      },
      "source": [
        "X_train.shape"
      ],
      "execution_count": 168,
      "outputs": [
        {
          "output_type": "execute_result",
          "data": {
            "text/plain": [
              "(55000, 28, 28)"
            ]
          },
          "metadata": {
            "tags": []
          },
          "execution_count": 168
        }
      ]
    },
    {
      "cell_type": "code",
      "metadata": {
        "id": "i4nCTDzMBuy8",
        "colab_type": "code",
        "colab": {
          "base_uri": "https://localhost:8080/",
          "height": 34
        },
        "outputId": "21ac16cf-0343-436b-b39c-5f661eeda7bd"
      },
      "source": [
        "y_train.shape"
      ],
      "execution_count": 169,
      "outputs": [
        {
          "output_type": "execute_result",
          "data": {
            "text/plain": [
              "(55000,)"
            ]
          },
          "metadata": {
            "tags": []
          },
          "execution_count": 169
        }
      ]
    },
    {
      "cell_type": "code",
      "metadata": {
        "id": "iBJ6z3T_3isF",
        "colab_type": "code",
        "colab": {
          "base_uri": "https://localhost:8080/",
          "height": 1000
        },
        "outputId": "edf85bd0-e69c-4e61-9592-df0a889905d7"
      },
      "source": [
        "x_valid[0]"
      ],
      "execution_count": 170,
      "outputs": [
        {
          "output_type": "execute_result",
          "data": {
            "text/plain": [
              "array([[0.        , 0.        , 0.        , 0.        , 0.        ,\n",
              "        0.        , 0.        , 0.        , 0.        , 0.        ,\n",
              "        0.        , 0.        , 0.        , 0.        , 0.        ,\n",
              "        0.        , 0.        , 0.        , 0.        , 0.        ,\n",
              "        0.        , 0.        , 0.        , 0.        , 0.        ,\n",
              "        0.        , 0.        , 0.        ],\n",
              "       [0.        , 0.        , 0.        , 0.        , 0.        ,\n",
              "        0.        , 0.        , 0.        , 0.        , 0.        ,\n",
              "        0.        , 0.        , 0.        , 0.        , 0.        ,\n",
              "        0.        , 0.        , 0.        , 0.        , 0.        ,\n",
              "        0.        , 0.        , 0.        , 0.        , 0.        ,\n",
              "        0.        , 0.        , 0.        ],\n",
              "       [0.        , 0.        , 0.        , 0.        , 0.        ,\n",
              "        0.        , 0.        , 0.        , 0.        , 0.        ,\n",
              "        0.        , 0.        , 0.        , 0.        , 0.        ,\n",
              "        0.        , 0.        , 0.        , 0.        , 0.        ,\n",
              "        0.        , 0.        , 0.        , 0.        , 0.        ,\n",
              "        0.        , 0.        , 0.        ],\n",
              "       [0.        , 0.        , 0.        , 0.        , 0.        ,\n",
              "        0.        , 0.        , 0.        , 0.        , 0.        ,\n",
              "        0.        , 0.        , 0.00392157, 0.        , 0.        ,\n",
              "        0.05098039, 0.28627451, 0.        , 0.        , 0.00392157,\n",
              "        0.01568627, 0.        , 0.        , 0.        , 0.        ,\n",
              "        0.00392157, 0.00392157, 0.        ],\n",
              "       [0.        , 0.        , 0.        , 0.        , 0.        ,\n",
              "        0.        , 0.        , 0.        , 0.        , 0.        ,\n",
              "        0.        , 0.        , 0.01176471, 0.        , 0.14117647,\n",
              "        0.53333333, 0.49803922, 0.24313725, 0.21176471, 0.        ,\n",
              "        0.        , 0.        , 0.00392157, 0.01176471, 0.01568627,\n",
              "        0.        , 0.        , 0.01176471],\n",
              "       [0.        , 0.        , 0.        , 0.        , 0.        ,\n",
              "        0.        , 0.        , 0.        , 0.        , 0.        ,\n",
              "        0.        , 0.        , 0.02352941, 0.        , 0.4       ,\n",
              "        0.8       , 0.69019608, 0.5254902 , 0.56470588, 0.48235294,\n",
              "        0.09019608, 0.        , 0.        , 0.        , 0.        ,\n",
              "        0.04705882, 0.03921569, 0.        ],\n",
              "       [0.        , 0.        , 0.        , 0.        , 0.        ,\n",
              "        0.        , 0.        , 0.        , 0.        , 0.        ,\n",
              "        0.        , 0.        , 0.        , 0.        , 0.60784314,\n",
              "        0.9254902 , 0.81176471, 0.69803922, 0.41960784, 0.61176471,\n",
              "        0.63137255, 0.42745098, 0.25098039, 0.09019608, 0.30196078,\n",
              "        0.50980392, 0.28235294, 0.05882353],\n",
              "       [0.        , 0.        , 0.        , 0.        , 0.        ,\n",
              "        0.        , 0.        , 0.        , 0.        , 0.        ,\n",
              "        0.        , 0.00392157, 0.        , 0.27058824, 0.81176471,\n",
              "        0.8745098 , 0.85490196, 0.84705882, 0.84705882, 0.63921569,\n",
              "        0.49803922, 0.4745098 , 0.47843137, 0.57254902, 0.55294118,\n",
              "        0.34509804, 0.6745098 , 0.25882353],\n",
              "       [0.        , 0.        , 0.        , 0.        , 0.        ,\n",
              "        0.        , 0.        , 0.        , 0.        , 0.00392157,\n",
              "        0.00392157, 0.00392157, 0.        , 0.78431373, 0.90980392,\n",
              "        0.90980392, 0.91372549, 0.89803922, 0.8745098 , 0.8745098 ,\n",
              "        0.84313725, 0.83529412, 0.64313725, 0.49803922, 0.48235294,\n",
              "        0.76862745, 0.89803922, 0.        ],\n",
              "       [0.        , 0.        , 0.        , 0.        , 0.        ,\n",
              "        0.        , 0.        , 0.        , 0.        , 0.        ,\n",
              "        0.        , 0.        , 0.        , 0.71764706, 0.88235294,\n",
              "        0.84705882, 0.8745098 , 0.89411765, 0.92156863, 0.89019608,\n",
              "        0.87843137, 0.87058824, 0.87843137, 0.86666667, 0.8745098 ,\n",
              "        0.96078431, 0.67843137, 0.        ],\n",
              "       [0.        , 0.        , 0.        , 0.        , 0.        ,\n",
              "        0.        , 0.        , 0.        , 0.        , 0.        ,\n",
              "        0.        , 0.        , 0.        , 0.75686275, 0.89411765,\n",
              "        0.85490196, 0.83529412, 0.77647059, 0.70588235, 0.83137255,\n",
              "        0.82352941, 0.82745098, 0.83529412, 0.8745098 , 0.8627451 ,\n",
              "        0.95294118, 0.79215686, 0.        ],\n",
              "       [0.        , 0.        , 0.        , 0.        , 0.        ,\n",
              "        0.        , 0.        , 0.        , 0.        , 0.00392157,\n",
              "        0.01176471, 0.        , 0.04705882, 0.85882353, 0.8627451 ,\n",
              "        0.83137255, 0.85490196, 0.75294118, 0.6627451 , 0.89019608,\n",
              "        0.81568627, 0.85490196, 0.87843137, 0.83137255, 0.88627451,\n",
              "        0.77254902, 0.81960784, 0.20392157],\n",
              "       [0.        , 0.        , 0.        , 0.        , 0.        ,\n",
              "        0.        , 0.        , 0.        , 0.        , 0.        ,\n",
              "        0.02352941, 0.        , 0.38823529, 0.95686275, 0.87058824,\n",
              "        0.8627451 , 0.85490196, 0.79607843, 0.77647059, 0.86666667,\n",
              "        0.84313725, 0.83529412, 0.87058824, 0.8627451 , 0.96078431,\n",
              "        0.46666667, 0.65490196, 0.21960784],\n",
              "       [0.        , 0.        , 0.        , 0.        , 0.        ,\n",
              "        0.        , 0.        , 0.        , 0.        , 0.01568627,\n",
              "        0.        , 0.        , 0.21568627, 0.9254902 , 0.89411765,\n",
              "        0.90196078, 0.89411765, 0.94117647, 0.90980392, 0.83529412,\n",
              "        0.85490196, 0.8745098 , 0.91764706, 0.85098039, 0.85098039,\n",
              "        0.81960784, 0.36078431, 0.        ],\n",
              "       [0.        , 0.        , 0.00392157, 0.01568627, 0.02352941,\n",
              "        0.02745098, 0.00784314, 0.        , 0.        , 0.        ,\n",
              "        0.        , 0.        , 0.92941176, 0.88627451, 0.85098039,\n",
              "        0.8745098 , 0.87058824, 0.85882353, 0.87058824, 0.86666667,\n",
              "        0.84705882, 0.8745098 , 0.89803922, 0.84313725, 0.85490196,\n",
              "        1.        , 0.30196078, 0.        ],\n",
              "       [0.        , 0.01176471, 0.        , 0.        , 0.        ,\n",
              "        0.        , 0.        , 0.        , 0.        , 0.24313725,\n",
              "        0.56862745, 0.8       , 0.89411765, 0.81176471, 0.83529412,\n",
              "        0.86666667, 0.85490196, 0.81568627, 0.82745098, 0.85490196,\n",
              "        0.87843137, 0.8745098 , 0.85882353, 0.84313725, 0.87843137,\n",
              "        0.95686275, 0.62352941, 0.        ],\n",
              "       [0.        , 0.        , 0.        , 0.        , 0.07058824,\n",
              "        0.17254902, 0.32156863, 0.41960784, 0.74117647, 0.89411765,\n",
              "        0.8627451 , 0.87058824, 0.85098039, 0.88627451, 0.78431373,\n",
              "        0.80392157, 0.82745098, 0.90196078, 0.87843137, 0.91764706,\n",
              "        0.69019608, 0.7372549 , 0.98039216, 0.97254902, 0.91372549,\n",
              "        0.93333333, 0.84313725, 0.        ],\n",
              "       [0.        , 0.22352941, 0.73333333, 0.81568627, 0.87843137,\n",
              "        0.86666667, 0.87843137, 0.81568627, 0.8       , 0.83921569,\n",
              "        0.81568627, 0.81960784, 0.78431373, 0.62352941, 0.96078431,\n",
              "        0.75686275, 0.80784314, 0.8745098 , 1.        , 1.        ,\n",
              "        0.86666667, 0.91764706, 0.86666667, 0.82745098, 0.8627451 ,\n",
              "        0.90980392, 0.96470588, 0.        ],\n",
              "       [0.01176471, 0.79215686, 0.89411765, 0.87843137, 0.86666667,\n",
              "        0.82745098, 0.82745098, 0.83921569, 0.80392157, 0.80392157,\n",
              "        0.80392157, 0.8627451 , 0.94117647, 0.31372549, 0.58823529,\n",
              "        1.        , 0.89803922, 0.86666667, 0.7372549 , 0.60392157,\n",
              "        0.74901961, 0.82352941, 0.8       , 0.81960784, 0.87058824,\n",
              "        0.89411765, 0.88235294, 0.        ],\n",
              "       [0.38431373, 0.91372549, 0.77647059, 0.82352941, 0.87058824,\n",
              "        0.89803922, 0.89803922, 0.91764706, 0.97647059, 0.8627451 ,\n",
              "        0.76078431, 0.84313725, 0.85098039, 0.94509804, 0.25490196,\n",
              "        0.28627451, 0.41568627, 0.45882353, 0.65882353, 0.85882353,\n",
              "        0.86666667, 0.84313725, 0.85098039, 0.8745098 , 0.8745098 ,\n",
              "        0.87843137, 0.89803922, 0.11372549],\n",
              "       [0.29411765, 0.8       , 0.83137255, 0.8       , 0.75686275,\n",
              "        0.80392157, 0.82745098, 0.88235294, 0.84705882, 0.7254902 ,\n",
              "        0.77254902, 0.80784314, 0.77647059, 0.83529412, 0.94117647,\n",
              "        0.76470588, 0.89019608, 0.96078431, 0.9372549 , 0.8745098 ,\n",
              "        0.85490196, 0.83137255, 0.81960784, 0.87058824, 0.8627451 ,\n",
              "        0.86666667, 0.90196078, 0.2627451 ],\n",
              "       [0.18823529, 0.79607843, 0.71764706, 0.76078431, 0.83529412,\n",
              "        0.77254902, 0.7254902 , 0.74509804, 0.76078431, 0.75294118,\n",
              "        0.79215686, 0.83921569, 0.85882353, 0.86666667, 0.8627451 ,\n",
              "        0.9254902 , 0.88235294, 0.84705882, 0.78039216, 0.80784314,\n",
              "        0.72941176, 0.70980392, 0.69411765, 0.6745098 , 0.70980392,\n",
              "        0.80392157, 0.80784314, 0.45098039],\n",
              "       [0.        , 0.47843137, 0.85882353, 0.75686275, 0.70196078,\n",
              "        0.67058824, 0.71764706, 0.76862745, 0.8       , 0.82352941,\n",
              "        0.83529412, 0.81176471, 0.82745098, 0.82352941, 0.78431373,\n",
              "        0.76862745, 0.76078431, 0.74901961, 0.76470588, 0.74901961,\n",
              "        0.77647059, 0.75294118, 0.69019608, 0.61176471, 0.65490196,\n",
              "        0.69411765, 0.82352941, 0.36078431],\n",
              "       [0.        , 0.        , 0.29019608, 0.74117647, 0.83137255,\n",
              "        0.74901961, 0.68627451, 0.6745098 , 0.68627451, 0.70980392,\n",
              "        0.7254902 , 0.7372549 , 0.74117647, 0.7372549 , 0.75686275,\n",
              "        0.77647059, 0.8       , 0.81960784, 0.82352941, 0.82352941,\n",
              "        0.82745098, 0.7372549 , 0.7372549 , 0.76078431, 0.75294118,\n",
              "        0.84705882, 0.66666667, 0.        ],\n",
              "       [0.00784314, 0.        , 0.        , 0.        , 0.25882353,\n",
              "        0.78431373, 0.87058824, 0.92941176, 0.9372549 , 0.94901961,\n",
              "        0.96470588, 0.95294118, 0.95686275, 0.86666667, 0.8627451 ,\n",
              "        0.75686275, 0.74901961, 0.70196078, 0.71372549, 0.71372549,\n",
              "        0.70980392, 0.69019608, 0.65098039, 0.65882353, 0.38823529,\n",
              "        0.22745098, 0.        , 0.        ],\n",
              "       [0.        , 0.        , 0.        , 0.        , 0.        ,\n",
              "        0.        , 0.        , 0.15686275, 0.23921569, 0.17254902,\n",
              "        0.28235294, 0.16078431, 0.1372549 , 0.        , 0.        ,\n",
              "        0.        , 0.        , 0.        , 0.        , 0.        ,\n",
              "        0.        , 0.        , 0.        , 0.        , 0.        ,\n",
              "        0.        , 0.        , 0.        ],\n",
              "       [0.        , 0.        , 0.        , 0.        , 0.        ,\n",
              "        0.        , 0.        , 0.        , 0.        , 0.        ,\n",
              "        0.        , 0.        , 0.        , 0.        , 0.        ,\n",
              "        0.        , 0.        , 0.        , 0.        , 0.        ,\n",
              "        0.        , 0.        , 0.        , 0.        , 0.        ,\n",
              "        0.        , 0.        , 0.        ],\n",
              "       [0.        , 0.        , 0.        , 0.        , 0.        ,\n",
              "        0.        , 0.        , 0.        , 0.        , 0.        ,\n",
              "        0.        , 0.        , 0.        , 0.        , 0.        ,\n",
              "        0.        , 0.        , 0.        , 0.        , 0.        ,\n",
              "        0.        , 0.        , 0.        , 0.        , 0.        ,\n",
              "        0.        , 0.        , 0.        ]])"
            ]
          },
          "metadata": {
            "tags": []
          },
          "execution_count": 170
        }
      ]
    },
    {
      "cell_type": "code",
      "metadata": {
        "id": "f2cA_7Kb3rx5",
        "colab_type": "code",
        "colab": {}
      },
      "source": [
        "np.random.seed(42)\n",
        "tf.random.set_seed(42)"
      ],
      "execution_count": 0,
      "outputs": []
    },
    {
      "cell_type": "code",
      "metadata": {
        "id": "WUtRXQuw7X8b",
        "colab_type": "code",
        "colab": {}
      },
      "source": [
        "model=keras.models.Sequential()\n",
        "model.add(keras.layers.Flatten(input_shape=[28*28]))\n",
        "model.add(keras.layers.Dense(300,activation='relu'))\n",
        "model.add(keras.layers.Dense(100,activation='relu'))\n",
        "model.add(keras.layers.Dense(10,activation='softmax'))"
      ],
      "execution_count": 0,
      "outputs": []
    },
    {
      "cell_type": "code",
      "metadata": {
        "id": "27ObT7hJ8Mhd",
        "colab_type": "code",
        "colab": {
          "base_uri": "https://localhost:8080/",
          "height": 298
        },
        "outputId": "ed8f5af7-b0af-41ae-8692-099ec4e03da2"
      },
      "source": [
        "model.summary()"
      ],
      "execution_count": 173,
      "outputs": [
        {
          "output_type": "stream",
          "text": [
            "Model: \"sequential_5\"\n",
            "_________________________________________________________________\n",
            "Layer (type)                 Output Shape              Param #   \n",
            "=================================================================\n",
            "flatten_5 (Flatten)          (None, 784)               0         \n",
            "_________________________________________________________________\n",
            "dense_15 (Dense)             (None, 300)               235500    \n",
            "_________________________________________________________________\n",
            "dense_16 (Dense)             (None, 100)               30100     \n",
            "_________________________________________________________________\n",
            "dense_17 (Dense)             (None, 10)                1010      \n",
            "=================================================================\n",
            "Total params: 266,610\n",
            "Trainable params: 266,610\n",
            "Non-trainable params: 0\n",
            "_________________________________________________________________\n"
          ],
          "name": "stdout"
        }
      ]
    },
    {
      "cell_type": "code",
      "metadata": {
        "id": "hOs-JMYd8TA0",
        "colab_type": "code",
        "colab": {
          "base_uri": "https://localhost:8080/",
          "height": 466
        },
        "outputId": "5a3b9f1e-56a1-4cc1-b9db-7c5b719a12ae"
      },
      "source": [
        "import pydot\n",
        "keras.utils.plot_model(model)"
      ],
      "execution_count": 174,
      "outputs": [
        {
          "output_type": "execute_result",
          "data": {
            "image/png": "[encoded data removed]",
            "text/plain": [
              "<IPython.core.display.Image object>"
            ]
          },
          "metadata": {
            "tags": []
          },
          "execution_count": 174
        }
      ]
    },
    {
      "cell_type": "code",
      "metadata": {
        "id": "ePD72Tza9Gxp",
        "colab_type": "code",
        "colab": {}
      },
      "source": [
        "weights,biases=model.layers[1].get_weights()"
      ],
      "execution_count": 0,
      "outputs": []
    },
    {
      "cell_type": "code",
      "metadata": {
        "id": "pJSgI8qF9TI8",
        "colab_type": "code",
        "colab": {
          "base_uri": "https://localhost:8080/",
          "height": 246
        },
        "outputId": "34c8c85b-1ca7-4e1a-d1df-3eb30cbeb2a9"
      },
      "source": [
        "weights"
      ],
      "execution_count": 176,
      "outputs": [
        {
          "output_type": "execute_result",
          "data": {
            "text/plain": [
              "array([[ 0.02448617, -0.00877795, -0.02189048, ..., -0.02766046,\n",
              "         0.03859074, -0.06889391],\n",
              "       [ 0.00476504, -0.03105379, -0.0586676 , ...,  0.00602964,\n",
              "        -0.02763776, -0.04165364],\n",
              "       [-0.06189284, -0.06901957,  0.07102345, ..., -0.04238207,\n",
              "         0.07121518, -0.07331658],\n",
              "       ...,\n",
              "       [-0.03048757,  0.02155137, -0.05400612, ..., -0.00113463,\n",
              "         0.00228987,  0.05581069],\n",
              "       [ 0.07061854, -0.06960931,  0.07038955, ..., -0.00384101,\n",
              "         0.00034875,  0.02878492],\n",
              "       [-0.06022581,  0.01577859, -0.02585464, ..., -0.00527829,\n",
              "         0.00272203, -0.06793761]], dtype=float32)"
            ]
          },
          "metadata": {
            "tags": []
          },
          "execution_count": 176
        }
      ]
    },
    {
      "cell_type": "code",
      "metadata": {
        "id": "YdSDksyL9VKQ",
        "colab_type": "code",
        "colab": {
          "base_uri": "https://localhost:8080/",
          "height": 34
        },
        "outputId": "28b98873-da16-4ade-eaf2-23e6b49942ef"
      },
      "source": [
        "weights.shape"
      ],
      "execution_count": 177,
      "outputs": [
        {
          "output_type": "execute_result",
          "data": {
            "text/plain": [
              "(784, 300)"
            ]
          },
          "metadata": {
            "tags": []
          },
          "execution_count": 177
        }
      ]
    },
    {
      "cell_type": "code",
      "metadata": {
        "id": "oH_crx3X9X7F",
        "colab_type": "code",
        "colab": {
          "base_uri": "https://localhost:8080/",
          "height": 334
        },
        "outputId": "d882ddea-e081-4cfb-bf6c-3a78b24fe771"
      },
      "source": [
        "biases"
      ],
      "execution_count": 178,
      "outputs": [
        {
          "output_type": "execute_result",
          "data": {
            "text/plain": [
              "array([0., 0., 0., 0., 0., 0., 0., 0., 0., 0., 0., 0., 0., 0., 0., 0., 0.,\n",
              "       0., 0., 0., 0., 0., 0., 0., 0., 0., 0., 0., 0., 0., 0., 0., 0., 0.,\n",
              "       0., 0., 0., 0., 0., 0., 0., 0., 0., 0., 0., 0., 0., 0., 0., 0., 0.,\n",
              "       0., 0., 0., 0., 0., 0., 0., 0., 0., 0., 0., 0., 0., 0., 0., 0., 0.,\n",
              "       0., 0., 0., 0., 0., 0., 0., 0., 0., 0., 0., 0., 0., 0., 0., 0., 0.,\n",
              "       0., 0., 0., 0., 0., 0., 0., 0., 0., 0., 0., 0., 0., 0., 0., 0., 0.,\n",
              "       0., 0., 0., 0., 0., 0., 0., 0., 0., 0., 0., 0., 0., 0., 0., 0., 0.,\n",
              "       0., 0., 0., 0., 0., 0., 0., 0., 0., 0., 0., 0., 0., 0., 0., 0., 0.,\n",
              "       0., 0., 0., 0., 0., 0., 0., 0., 0., 0., 0., 0., 0., 0., 0., 0., 0.,\n",
              "       0., 0., 0., 0., 0., 0., 0., 0., 0., 0., 0., 0., 0., 0., 0., 0., 0.,\n",
              "       0., 0., 0., 0., 0., 0., 0., 0., 0., 0., 0., 0., 0., 0., 0., 0., 0.,\n",
              "       0., 0., 0., 0., 0., 0., 0., 0., 0., 0., 0., 0., 0., 0., 0., 0., 0.,\n",
              "       0., 0., 0., 0., 0., 0., 0., 0., 0., 0., 0., 0., 0., 0., 0., 0., 0.,\n",
              "       0., 0., 0., 0., 0., 0., 0., 0., 0., 0., 0., 0., 0., 0., 0., 0., 0.,\n",
              "       0., 0., 0., 0., 0., 0., 0., 0., 0., 0., 0., 0., 0., 0., 0., 0., 0.,\n",
              "       0., 0., 0., 0., 0., 0., 0., 0., 0., 0., 0., 0., 0., 0., 0., 0., 0.,\n",
              "       0., 0., 0., 0., 0., 0., 0., 0., 0., 0., 0., 0., 0., 0., 0., 0., 0.,\n",
              "       0., 0., 0., 0., 0., 0., 0., 0., 0., 0., 0.], dtype=float32)"
            ]
          },
          "metadata": {
            "tags": []
          },
          "execution_count": 178
        }
      ]
    },
    {
      "cell_type": "code",
      "metadata": {
        "id": "pigQ1mz19a3Z",
        "colab_type": "code",
        "colab": {
          "base_uri": "https://localhost:8080/",
          "height": 34
        },
        "outputId": "afeac348-c065-446f-b8e2-bb75a07b3ed7"
      },
      "source": [
        "biases.shape"
      ],
      "execution_count": 179,
      "outputs": [
        {
          "output_type": "execute_result",
          "data": {
            "text/plain": [
              "(300,)"
            ]
          },
          "metadata": {
            "tags": []
          },
          "execution_count": 179
        }
      ]
    },
    {
      "cell_type": "code",
      "metadata": {
        "id": "JNjgi01--GgK",
        "colab_type": "code",
        "colab": {}
      },
      "source": [
        "model.compile(loss='sparse_categorical_crossentropy',\n",
        "              optimizer='sgd',\n",
        "              metrics=['accuracy'])"
      ],
      "execution_count": 0,
      "outputs": []
    },
    {
      "cell_type": "code",
      "metadata": {
        "id": "R9Uagcqe-uCq",
        "colab_type": "code",
        "colab": {
          "base_uri": "https://localhost:8080/",
          "height": 1000
        },
        "outputId": "e8cda050-319a-42b6-bda8-03fdb82e986f"
      },
      "source": [
        "model_history=model.fit(X_train,y_train,epochs=60,\n",
        "                        validation_data=(X_valid[:5000],y_valid))"
      ],
      "execution_count": 181,
      "outputs": [
        {
          "output_type": "stream",
          "text": [
            "Epoch 1/60\n",
            "WARNING:tensorflow:Model was constructed with shape (None, 784) for input Tensor(\"flatten_5_input:0\", shape=(None, 784), dtype=float32), but it was called on an input with incompatible shape (None, 28, 28).\n",
            "WARNING:tensorflow:Model was constructed with shape (None, 784) for input Tensor(\"flatten_5_input:0\", shape=(None, 784), dtype=float32), but it was called on an input with incompatible shape (None, 28, 28).\n",
            "1701/1719 [============================>.] - ETA: 0s - loss: 0.7263 - accuracy: 0.7636WARNING:tensorflow:Model was constructed with shape (None, 784) for input Tensor(\"flatten_5_input:0\", shape=(None, 784), dtype=float32), but it was called on an input with incompatible shape (None, 28, 28).\n",
            "1719/1719 [==============================] - 5s 3ms/step - loss: 0.7237 - accuracy: 0.7643 - val_loss: 0.5204 - val_accuracy: 0.8226\n",
            "Epoch 2/60\n",
            "1719/1719 [==============================] - 5s 3ms/step - loss: 0.4842 - accuracy: 0.8318 - val_loss: 0.4339 - val_accuracy: 0.8526\n",
            "Epoch 3/60\n",
            "1719/1719 [==============================] - 5s 3ms/step - loss: 0.4391 - accuracy: 0.8458 - val_loss: 0.5286 - val_accuracy: 0.7996\n",
            "Epoch 4/60\n",
            "1719/1719 [==============================] - 6s 4ms/step - loss: 0.4123 - accuracy: 0.8566 - val_loss: 0.3901 - val_accuracy: 0.8650\n",
            "Epoch 5/60\n",
            "1719/1719 [==============================] - 6s 4ms/step - loss: 0.3939 - accuracy: 0.8622 - val_loss: 0.3732 - val_accuracy: 0.8690\n",
            "Epoch 6/60\n",
            "1719/1719 [==============================] - 5s 3ms/step - loss: 0.3752 - accuracy: 0.8675 - val_loss: 0.3704 - val_accuracy: 0.8724\n",
            "Epoch 7/60\n",
            "1719/1719 [==============================] - 5s 3ms/step - loss: 0.3631 - accuracy: 0.8716 - val_loss: 0.3603 - val_accuracy: 0.8736\n",
            "Epoch 8/60\n",
            "1719/1719 [==============================] - 5s 3ms/step - loss: 0.3514 - accuracy: 0.8747 - val_loss: 0.3838 - val_accuracy: 0.8608\n",
            "Epoch 9/60\n",
            "1719/1719 [==============================] - 5s 3ms/step - loss: 0.3412 - accuracy: 0.8793 - val_loss: 0.3558 - val_accuracy: 0.8718\n",
            "Epoch 10/60\n",
            "1719/1719 [==============================] - 5s 3ms/step - loss: 0.3317 - accuracy: 0.8821 - val_loss: 0.3406 - val_accuracy: 0.8786\n",
            "Epoch 11/60\n",
            "1719/1719 [==============================] - 5s 3ms/step - loss: 0.3238 - accuracy: 0.8839 - val_loss: 0.3436 - val_accuracy: 0.8770\n",
            "Epoch 12/60\n",
            "1719/1719 [==============================] - 5s 3ms/step - loss: 0.3147 - accuracy: 0.8865 - val_loss: 0.3293 - val_accuracy: 0.8832\n",
            "Epoch 13/60\n",
            "1719/1719 [==============================] - 5s 3ms/step - loss: 0.3078 - accuracy: 0.8896 - val_loss: 0.3261 - val_accuracy: 0.8868\n",
            "Epoch 14/60\n",
            "1719/1719 [==============================] - 5s 3ms/step - loss: 0.3019 - accuracy: 0.8917 - val_loss: 0.3406 - val_accuracy: 0.8772\n",
            "Epoch 15/60\n",
            "1719/1719 [==============================] - 5s 3ms/step - loss: 0.2944 - accuracy: 0.8940 - val_loss: 0.3208 - val_accuracy: 0.8842\n",
            "Epoch 16/60\n",
            "1719/1719 [==============================] - 5s 3ms/step - loss: 0.2889 - accuracy: 0.8971 - val_loss: 0.3077 - val_accuracy: 0.8906\n",
            "Epoch 17/60\n",
            "1719/1719 [==============================] - 4s 3ms/step - loss: 0.2835 - accuracy: 0.8979 - val_loss: 0.3533 - val_accuracy: 0.8736\n",
            "Epoch 18/60\n",
            "1719/1719 [==============================] - 5s 3ms/step - loss: 0.2775 - accuracy: 0.9006 - val_loss: 0.3123 - val_accuracy: 0.8902\n",
            "Epoch 19/60\n",
            "1719/1719 [==============================] - 4s 3ms/step - loss: 0.2726 - accuracy: 0.9024 - val_loss: 0.3097 - val_accuracy: 0.8904\n",
            "Epoch 20/60\n",
            "1719/1719 [==============================] - 5s 3ms/step - loss: 0.2671 - accuracy: 0.9036 - val_loss: 0.3257 - val_accuracy: 0.8818\n",
            "Epoch 21/60\n",
            "1719/1719 [==============================] - 5s 3ms/step - loss: 0.2621 - accuracy: 0.9056 - val_loss: 0.3053 - val_accuracy: 0.8926\n",
            "Epoch 22/60\n",
            "1719/1719 [==============================] - 5s 3ms/step - loss: 0.2575 - accuracy: 0.9071 - val_loss: 0.2956 - val_accuracy: 0.8972\n",
            "Epoch 23/60\n",
            "1719/1719 [==============================] - 5s 3ms/step - loss: 0.2533 - accuracy: 0.9086 - val_loss: 0.2985 - val_accuracy: 0.8936\n",
            "Epoch 24/60\n",
            "1719/1719 [==============================] - 5s 3ms/step - loss: 0.2484 - accuracy: 0.9104 - val_loss: 0.3066 - val_accuracy: 0.8890\n",
            "Epoch 25/60\n",
            "1719/1719 [==============================] - 5s 3ms/step - loss: 0.2441 - accuracy: 0.9127 - val_loss: 0.2964 - val_accuracy: 0.8948\n",
            "Epoch 26/60\n",
            "1719/1719 [==============================] - 5s 3ms/step - loss: 0.2404 - accuracy: 0.9138 - val_loss: 0.3056 - val_accuracy: 0.8906\n",
            "Epoch 27/60\n",
            "1719/1719 [==============================] - 5s 3ms/step - loss: 0.2360 - accuracy: 0.9155 - val_loss: 0.3027 - val_accuracy: 0.8940\n",
            "Epoch 28/60\n",
            "1719/1719 [==============================] - 5s 3ms/step - loss: 0.2327 - accuracy: 0.9166 - val_loss: 0.2991 - val_accuracy: 0.8934\n",
            "Epoch 29/60\n",
            "1719/1719 [==============================] - 5s 3ms/step - loss: 0.2284 - accuracy: 0.9181 - val_loss: 0.3037 - val_accuracy: 0.8908\n",
            "Epoch 30/60\n",
            "1719/1719 [==============================] - 5s 3ms/step - loss: 0.2248 - accuracy: 0.9203 - val_loss: 0.3042 - val_accuracy: 0.8934\n",
            "Epoch 31/60\n",
            "1719/1719 [==============================] - 5s 3ms/step - loss: 0.2210 - accuracy: 0.9199 - val_loss: 0.2956 - val_accuracy: 0.8898\n",
            "Epoch 32/60\n",
            "1719/1719 [==============================] - 5s 3ms/step - loss: 0.2176 - accuracy: 0.9221 - val_loss: 0.3064 - val_accuracy: 0.8920\n",
            "Epoch 33/60\n",
            "1719/1719 [==============================] - 5s 3ms/step - loss: 0.2137 - accuracy: 0.9226 - val_loss: 0.2943 - val_accuracy: 0.8988\n",
            "Epoch 34/60\n",
            "1719/1719 [==============================] - 5s 3ms/step - loss: 0.2108 - accuracy: 0.9250 - val_loss: 0.2984 - val_accuracy: 0.8936\n",
            "Epoch 35/60\n",
            "1719/1719 [==============================] - 5s 3ms/step - loss: 0.2064 - accuracy: 0.9265 - val_loss: 0.2826 - val_accuracy: 0.8966\n",
            "Epoch 36/60\n",
            "1719/1719 [==============================] - 5s 3ms/step - loss: 0.2040 - accuracy: 0.9262 - val_loss: 0.3018 - val_accuracy: 0.8952\n",
            "Epoch 37/60\n",
            "1719/1719 [==============================] - 5s 3ms/step - loss: 0.2006 - accuracy: 0.9282 - val_loss: 0.2883 - val_accuracy: 0.8958\n",
            "Epoch 38/60\n",
            "1719/1719 [==============================] - 5s 3ms/step - loss: 0.1964 - accuracy: 0.9299 - val_loss: 0.2874 - val_accuracy: 0.8944\n",
            "Epoch 39/60\n",
            "1719/1719 [==============================] - 5s 3ms/step - loss: 0.1954 - accuracy: 0.9301 - val_loss: 0.2894 - val_accuracy: 0.8960\n",
            "Epoch 40/60\n",
            "1719/1719 [==============================] - 5s 3ms/step - loss: 0.1913 - accuracy: 0.9322 - val_loss: 0.2919 - val_accuracy: 0.8958\n",
            "Epoch 41/60\n",
            "1719/1719 [==============================] - 5s 3ms/step - loss: 0.1885 - accuracy: 0.9327 - val_loss: 0.2840 - val_accuracy: 0.8998\n",
            "Epoch 42/60\n",
            "1719/1719 [==============================] - 5s 3ms/step - loss: 0.1861 - accuracy: 0.9337 - val_loss: 0.2849 - val_accuracy: 0.9032\n",
            "Epoch 43/60\n",
            "1719/1719 [==============================] - 5s 3ms/step - loss: 0.1819 - accuracy: 0.9354 - val_loss: 0.3147 - val_accuracy: 0.8904\n",
            "Epoch 44/60\n",
            "1719/1719 [==============================] - 5s 3ms/step - loss: 0.1793 - accuracy: 0.9361 - val_loss: 0.3063 - val_accuracy: 0.8908\n",
            "Epoch 45/60\n",
            "1719/1719 [==============================] - 5s 3ms/step - loss: 0.1778 - accuracy: 0.9363 - val_loss: 0.2905 - val_accuracy: 0.8988\n",
            "Epoch 46/60\n",
            "1719/1719 [==============================] - 5s 3ms/step - loss: 0.1736 - accuracy: 0.9382 - val_loss: 0.2991 - val_accuracy: 0.8978\n",
            "Epoch 47/60\n",
            "1719/1719 [==============================] - 5s 3ms/step - loss: 0.1708 - accuracy: 0.9391 - val_loss: 0.2921 - val_accuracy: 0.8998\n",
            "Epoch 48/60\n",
            "1719/1719 [==============================] - 5s 3ms/step - loss: 0.1693 - accuracy: 0.9397 - val_loss: 0.3089 - val_accuracy: 0.8930\n",
            "Epoch 49/60\n",
            "1719/1719 [==============================] - 5s 3ms/step - loss: 0.1650 - accuracy: 0.9418 - val_loss: 0.2917 - val_accuracy: 0.8976\n",
            "Epoch 50/60\n",
            "1719/1719 [==============================] - 5s 3ms/step - loss: 0.1633 - accuracy: 0.9415 - val_loss: 0.2960 - val_accuracy: 0.8960\n",
            "Epoch 51/60\n",
            "1719/1719 [==============================] - 5s 3ms/step - loss: 0.1610 - accuracy: 0.9433 - val_loss: 0.2867 - val_accuracy: 0.9008\n",
            "Epoch 52/60\n",
            "1719/1719 [==============================] - 5s 3ms/step - loss: 0.1582 - accuracy: 0.9446 - val_loss: 0.3358 - val_accuracy: 0.8860\n",
            "Epoch 53/60\n",
            "1719/1719 [==============================] - 5s 3ms/step - loss: 0.1561 - accuracy: 0.9447 - val_loss: 0.3015 - val_accuracy: 0.8986\n",
            "Epoch 54/60\n",
            "1719/1719 [==============================] - 5s 3ms/step - loss: 0.1535 - accuracy: 0.9452 - val_loss: 0.3033 - val_accuracy: 0.8936\n",
            "Epoch 55/60\n",
            "1719/1719 [==============================] - 5s 3ms/step - loss: 0.1502 - accuracy: 0.9473 - val_loss: 0.3070 - val_accuracy: 0.8958\n",
            "Epoch 56/60\n",
            "1719/1719 [==============================] - 5s 3ms/step - loss: 0.1483 - accuracy: 0.9465 - val_loss: 0.3127 - val_accuracy: 0.8970\n",
            "Epoch 57/60\n",
            "1719/1719 [==============================] - 5s 3ms/step - loss: 0.1450 - accuracy: 0.9481 - val_loss: 0.2996 - val_accuracy: 0.9014\n",
            "Epoch 58/60\n",
            "1719/1719 [==============================] - 5s 3ms/step - loss: 0.1425 - accuracy: 0.9500 - val_loss: 0.3089 - val_accuracy: 0.8928\n",
            "Epoch 59/60\n",
            "1719/1719 [==============================] - 5s 3ms/step - loss: 0.1407 - accuracy: 0.9507 - val_loss: 0.3088 - val_accuracy: 0.8996\n",
            "Epoch 60/60\n",
            "1719/1719 [==============================] - 5s 3ms/step - loss: 0.1386 - accuracy: 0.9513 - val_loss: 0.2998 - val_accuracy: 0.9002\n"
          ],
          "name": "stdout"
        }
      ]
    },
    {
      "cell_type": "code",
      "metadata": {
        "id": "c-Y1KpMLEvWt",
        "colab_type": "code",
        "colab": {
          "base_uri": "https://localhost:8080/",
          "height": 34
        },
        "outputId": "680a8d25-1f1f-485e-f427-8297737fa643"
      },
      "source": [
        "model_history.params"
      ],
      "execution_count": 182,
      "outputs": [
        {
          "output_type": "execute_result",
          "data": {
            "text/plain": [
              "{'epochs': 60, 'steps': 1719, 'verbose': 1}"
            ]
          },
          "metadata": {
            "tags": []
          },
          "execution_count": 182
        }
      ]
    },
    {
      "cell_type": "code",
      "metadata": {
        "id": "EXgqA1srE-bK",
        "colab_type": "code",
        "colab": {
          "base_uri": "https://localhost:8080/",
          "height": 1000
        },
        "outputId": "14bc884f-954f-4611-dfce-c8dfff63a3d7"
      },
      "source": [
        "model_history.history"
      ],
      "execution_count": 183,
      "outputs": [
        {
          "output_type": "execute_result",
          "data": {
            "text/plain": [
              "{'accuracy': [0.7643091082572937,\n",
              "  0.831781804561615,\n",
              "  0.8457818031311035,\n",
              "  0.8565636277198792,\n",
              "  0.8622363805770874,\n",
              "  0.8675454258918762,\n",
              "  0.8715817928314209,\n",
              "  0.8747454285621643,\n",
              "  0.8793454766273499,\n",
              "  0.8820545673370361,\n",
              "  0.8839091062545776,\n",
              "  0.8865454792976379,\n",
              "  0.8896363377571106,\n",
              "  0.8916545510292053,\n",
              "  0.8939999938011169,\n",
              "  0.8971454501152039,\n",
              "  0.8979091048240662,\n",
              "  0.9006181955337524,\n",
              "  0.902363657951355,\n",
              "  0.9035817980766296,\n",
              "  0.9055818319320679,\n",
              "  0.9071454405784607,\n",
              "  0.9085999727249146,\n",
              "  0.9103817939758301,\n",
              "  0.9126545190811157,\n",
              "  0.9137818217277527,\n",
              "  0.9155091047286987,\n",
              "  0.9166181683540344,\n",
              "  0.9180545210838318,\n",
              "  0.9203454256057739,\n",
              "  0.919945478439331,\n",
              "  0.922109067440033,\n",
              "  0.9225999712944031,\n",
              "  0.924963653087616,\n",
              "  0.9265090823173523,\n",
              "  0.9261636137962341,\n",
              "  0.9282363653182983,\n",
              "  0.9298545718193054,\n",
              "  0.9300727248191833,\n",
              "  0.932163655757904,\n",
              "  0.9326909184455872,\n",
              "  0.9337272644042969,\n",
              "  0.9354363679885864,\n",
              "  0.936054527759552,\n",
              "  0.9363454580307007,\n",
              "  0.9381818175315857,\n",
              "  0.9390909075737,\n",
              "  0.9397090673446655,\n",
              "  0.9418363571166992,\n",
              "  0.941527247428894,\n",
              "  0.9433454275131226,\n",
              "  0.9446181654930115,\n",
              "  0.9446908831596375,\n",
              "  0.9452363848686218,\n",
              "  0.9473454356193542,\n",
              "  0.946509063243866,\n",
              "  0.948127269744873,\n",
              "  0.9499636292457581,\n",
              "  0.9506909251213074,\n",
              "  0.95127272605896],\n",
              " 'loss': [0.7237058281898499,\n",
              "  0.4841744601726532,\n",
              "  0.43913567066192627,\n",
              "  0.4123038351535797,\n",
              "  0.3939266502857208,\n",
              "  0.375158429145813,\n",
              "  0.36311042308807373,\n",
              "  0.35144561529159546,\n",
              "  0.3411730229854584,\n",
              "  0.3316822946071625,\n",
              "  0.32375749945640564,\n",
              "  0.3146960437297821,\n",
              "  0.30776599049568176,\n",
              "  0.30194568634033203,\n",
              "  0.29436689615249634,\n",
              "  0.2888944745063782,\n",
              "  0.2835371196269989,\n",
              "  0.2775249779224396,\n",
              "  0.2726448178291321,\n",
              "  0.2671240568161011,\n",
              "  0.26205363869667053,\n",
              "  0.25754857063293457,\n",
              "  0.25334233045578003,\n",
              "  0.24836547672748566,\n",
              "  0.24413874745368958,\n",
              "  0.24039407074451447,\n",
              "  0.23603591322898865,\n",
              "  0.23272068798542023,\n",
              "  0.22840258479118347,\n",
              "  0.22481676936149597,\n",
              "  0.22096167504787445,\n",
              "  0.21755504608154297,\n",
              "  0.21373625099658966,\n",
              "  0.21076883375644684,\n",
              "  0.20641210675239563,\n",
              "  0.20403477549552917,\n",
              "  0.20064716041088104,\n",
              "  0.1964346021413803,\n",
              "  0.1954207867383957,\n",
              "  0.19133935868740082,\n",
              "  0.18846869468688965,\n",
              "  0.18608392775058746,\n",
              "  0.18186664581298828,\n",
              "  0.17930293083190918,\n",
              "  0.17783880233764648,\n",
              "  0.17355448007583618,\n",
              "  0.17083291709423065,\n",
              "  0.16931678354740143,\n",
              "  0.16503435373306274,\n",
              "  0.1632688194513321,\n",
              "  0.16096161305904388,\n",
              "  0.15818902850151062,\n",
              "  0.15613195300102234,\n",
              "  0.15351328253746033,\n",
              "  0.150249645113945,\n",
              "  0.14832793176174164,\n",
              "  0.14501960575580597,\n",
              "  0.14254353940486908,\n",
              "  0.14067812263965607,\n",
              "  0.13863591849803925],\n",
              " 'val_accuracy': [0.8226000070571899,\n",
              "  0.8525999784469604,\n",
              "  0.7996000051498413,\n",
              "  0.8650000095367432,\n",
              "  0.8690000176429749,\n",
              "  0.8723999857902527,\n",
              "  0.8736000061035156,\n",
              "  0.86080002784729,\n",
              "  0.8718000054359436,\n",
              "  0.878600001335144,\n",
              "  0.8769999742507935,\n",
              "  0.8831999897956848,\n",
              "  0.8867999911308289,\n",
              "  0.8772000074386597,\n",
              "  0.8841999769210815,\n",
              "  0.8906000256538391,\n",
              "  0.8736000061035156,\n",
              "  0.8902000188827515,\n",
              "  0.8903999924659729,\n",
              "  0.8817999958992004,\n",
              "  0.8925999999046326,\n",
              "  0.8971999883651733,\n",
              "  0.8935999870300293,\n",
              "  0.8889999985694885,\n",
              "  0.8948000073432922,\n",
              "  0.8906000256538391,\n",
              "  0.8939999938011169,\n",
              "  0.8934000134468079,\n",
              "  0.8907999992370605,\n",
              "  0.8934000134468079,\n",
              "  0.8898000121116638,\n",
              "  0.8920000195503235,\n",
              "  0.8988000154495239,\n",
              "  0.8935999870300293,\n",
              "  0.8966000080108643,\n",
              "  0.8952000141143799,\n",
              "  0.895799994468689,\n",
              "  0.8944000005722046,\n",
              "  0.8960000276565552,\n",
              "  0.895799994468689,\n",
              "  0.8998000025749207,\n",
              "  0.9031999707221985,\n",
              "  0.8903999924659729,\n",
              "  0.8907999992370605,\n",
              "  0.8988000154495239,\n",
              "  0.8978000283241272,\n",
              "  0.8998000025749207,\n",
              "  0.8930000066757202,\n",
              "  0.897599995136261,\n",
              "  0.8960000276565552,\n",
              "  0.9007999897003174,\n",
              "  0.8859999775886536,\n",
              "  0.8985999822616577,\n",
              "  0.8935999870300293,\n",
              "  0.895799994468689,\n",
              "  0.8970000147819519,\n",
              "  0.9014000296592712,\n",
              "  0.892799973487854,\n",
              "  0.8996000289916992,\n",
              "  0.9002000093460083],\n",
              " 'val_loss': [0.5203609466552734,\n",
              "  0.43393799662590027,\n",
              "  0.528554379940033,\n",
              "  0.3901043236255646,\n",
              "  0.373161256313324,\n",
              "  0.37043800950050354,\n",
              "  0.3602636754512787,\n",
              "  0.3837927579879761,\n",
              "  0.3557538688182831,\n",
              "  0.34061911702156067,\n",
              "  0.34362950921058655,\n",
              "  0.3293096423149109,\n",
              "  0.32611486315727234,\n",
              "  0.340625524520874,\n",
              "  0.3207985460758209,\n",
              "  0.30769261717796326,\n",
              "  0.3533400893211365,\n",
              "  0.31228142976760864,\n",
              "  0.30970498919487,\n",
              "  0.3256920874118805,\n",
              "  0.30527055263519287,\n",
              "  0.29556721448898315,\n",
              "  0.2985360324382782,\n",
              "  0.3065779209136963,\n",
              "  0.29638171195983887,\n",
              "  0.30555570125579834,\n",
              "  0.30271923542022705,\n",
              "  0.29906076192855835,\n",
              "  0.303674578666687,\n",
              "  0.30424821376800537,\n",
              "  0.2955995202064514,\n",
              "  0.30636999011039734,\n",
              "  0.2942848205566406,\n",
              "  0.29836082458496094,\n",
              "  0.2826096713542938,\n",
              "  0.3017725646495819,\n",
              "  0.2883119285106659,\n",
              "  0.2873625159263611,\n",
              "  0.2894211411476135,\n",
              "  0.29189032316207886,\n",
              "  0.2840268015861511,\n",
              "  0.2849441468715668,\n",
              "  0.3147026598453522,\n",
              "  0.30629485845565796,\n",
              "  0.2905144989490509,\n",
              "  0.29905351996421814,\n",
              "  0.2921102046966553,\n",
              "  0.3089365065097809,\n",
              "  0.29171356558799744,\n",
              "  0.2959849238395691,\n",
              "  0.28670865297317505,\n",
              "  0.33578169345855713,\n",
              "  0.30152764916419983,\n",
              "  0.3033417761325836,\n",
              "  0.30703774094581604,\n",
              "  0.3126540780067444,\n",
              "  0.2995699644088745,\n",
              "  0.3089134991168976,\n",
              "  0.3087819218635559,\n",
              "  0.29980725049972534]}"
            ]
          },
          "metadata": {
            "tags": []
          },
          "execution_count": 183
        }
      ]
    },
    {
      "cell_type": "code",
      "metadata": {
        "id": "piRpxuibFIsY",
        "colab_type": "code",
        "colab": {
          "base_uri": "https://localhost:8080/",
          "height": 269
        },
        "outputId": "b2b92bdf-a08c-4a89-a5a4-ed4fadb00261"
      },
      "source": [
        "pd.DataFrame(model.history.history).plot()\n",
        "plt.grid(True)\n",
        "plt.gca().set_ylim(0,1)\n",
        "plt.show()"
      ],
      "execution_count": 184,
      "outputs": [
        {
          "output_type": "display_data",
          "data": {
            "image/png": "[encoded data removed]",
            "text/plain": [
              "<Figure size 432x288 with 1 Axes>"
            ]
          },
          "metadata": {
            "tags": [],
            "needs_background": "light"
          }
        }
      ]
    },
    {
      "cell_type": "code",
      "metadata": {
        "id": "fvmnxepoHD2V",
        "colab_type": "code",
        "colab": {
          "base_uri": "https://localhost:8080/",
          "height": 52
        },
        "outputId": "5f79c630-deb4-4b09-9fee-0a0b1716016f"
      },
      "source": [
        "model.evaluate(X_test,y_test)"
      ],
      "execution_count": 185,
      "outputs": [
        {
          "output_type": "stream",
          "text": [
            "313/313 [==============================] - 0s 2ms/step - loss: 0.3399 - accuracy: 0.8899\n"
          ],
          "name": "stdout"
        },
        {
          "output_type": "execute_result",
          "data": {
            "text/plain": [
              "[0.3399046063423157, 0.8899000287055969]"
            ]
          },
          "metadata": {
            "tags": []
          },
          "execution_count": 185
        }
      ]
    },
    {
      "cell_type": "markdown",
      "metadata": {
        "id": "eyXXUYN8HTkr",
        "colab_type": "text"
      },
      "source": [
        "Prediction"
      ]
    },
    {
      "cell_type": "code",
      "metadata": {
        "id": "jXz--HWDHLjo",
        "colab_type": "code",
        "colab": {}
      },
      "source": [
        "x_new=X_test[:3]\n",
        "#New unseen data"
      ],
      "execution_count": 0,
      "outputs": []
    },
    {
      "cell_type": "code",
      "metadata": {
        "id": "GI24By-kHQ9t",
        "colab_type": "code",
        "colab": {
          "base_uri": "https://localhost:8080/",
          "height": 107
        },
        "outputId": "a5d19f10-e1fc-45c3-ee70-ed2453710b63"
      },
      "source": [
        "y_prob=model.predict(x_new)\n",
        "y_prob.round(2)\n",
        "#Predicting the Values of corrosponding class"
      ],
      "execution_count": 187,
      "outputs": [
        {
          "output_type": "stream",
          "text": [
            "WARNING:tensorflow:Model was constructed with shape (None, 784) for input Tensor(\"flatten_5_input:0\", shape=(None, 784), dtype=float32), but it was called on an input with incompatible shape (None, 28, 28).\n"
          ],
          "name": "stdout"
        },
        {
          "output_type": "execute_result",
          "data": {
            "text/plain": [
              "array([[0., 0., 0., 0., 0., 0., 0., 0., 0., 1.],\n",
              "       [0., 0., 1., 0., 0., 0., 0., 0., 0., 0.],\n",
              "       [0., 1., 0., 0., 0., 0., 0., 0., 0., 0.]], dtype=float32)"
            ]
          },
          "metadata": {
            "tags": []
          },
          "execution_count": 187
        }
      ]
    },
    {
      "cell_type": "code",
      "metadata": {
        "id": "0iZScKqFHkdw",
        "colab_type": "code",
        "colab": {
          "base_uri": "https://localhost:8080/",
          "height": 34
        },
        "outputId": "75990278-fe7d-4c42-cc3c-83ee1fc6619f"
      },
      "source": [
        "pred=model.predict_classes(x_new)\n",
        "pred\n",
        "#Predicting classes"
      ],
      "execution_count": 188,
      "outputs": [
        {
          "output_type": "execute_result",
          "data": {
            "text/plain": [
              "array([9, 2, 1])"
            ]
          },
          "metadata": {
            "tags": []
          },
          "execution_count": 188
        }
      ]
    },
    {
      "cell_type": "code",
      "metadata": {
        "id": "eJU8RrBLIcw3",
        "colab_type": "code",
        "colab": {
          "base_uri": "https://localhost:8080/",
          "height": 34
        },
        "outputId": "8912d945-bdf8-40f9-f790-4f693548037b"
      },
      "source": [
        "np.array(class_name)[pred]"
      ],
      "execution_count": 193,
      "outputs": [
        {
          "output_type": "execute_result",
          "data": {
            "text/plain": [
              "array(['Ankle Boot', 'Pullover', 'Trouser'], dtype='<U11')"
            ]
          },
          "metadata": {
            "tags": []
          },
          "execution_count": 193
        }
      ]
    },
    {
      "cell_type": "code",
      "metadata": {
        "id": "ovQKJV5iIwP1",
        "colab_type": "code",
        "colab": {
          "base_uri": "https://localhost:8080/",
          "height": 282
        },
        "outputId": "f22f7d0b-2945-4f2a-8923-a4f7fc43e70c"
      },
      "source": [
        "print(plt.imshow(x_test[0]))"
      ],
      "execution_count": 190,
      "outputs": [
        {
          "output_type": "stream",
          "text": [
            "AxesImage(54,36;334.8x217.44)\n"
          ],
          "name": "stdout"
        },
        {
          "output_type": "display_data",
          "data": {
            "image/png": "[encoded data removed]",
            "text/plain": [
              "<Figure size 432x288 with 1 Axes>"
            ]
          },
          "metadata": {
            "tags": [],
            "needs_background": "light"
          }
        }
      ]
    },
    {
      "cell_type": "code",
      "metadata": {
        "id": "ILb495DXI2EM",
        "colab_type": "code",
        "colab": {
          "base_uri": "https://localhost:8080/",
          "height": 282
        },
        "outputId": "7c45af46-0734-4821-f692-46075211a3e0"
      },
      "source": [
        "print(plt.imshow(x_test[1]))"
      ],
      "execution_count": 191,
      "outputs": [
        {
          "output_type": "stream",
          "text": [
            "AxesImage(54,36;334.8x217.44)\n"
          ],
          "name": "stdout"
        },
        {
          "output_type": "display_data",
          "data": {
            "image/png": "[encoded data removed]",
            "text/plain": [
              "<Figure size 432x288 with 1 Axes>"
            ]
          },
          "metadata": {
            "tags": [],
            "needs_background": "light"
          }
        }
      ]
    },
    {
      "cell_type": "code",
      "metadata": {
        "id": "27EJKzezI3Et",
        "colab_type": "code",
        "colab": {
          "base_uri": "https://localhost:8080/",
          "height": 282
        },
        "outputId": "05c9bf20-b128-4457-9b2f-9b0411c39d21"
      },
      "source": [
        "print(plt.imshow(x_test[2]))"
      ],
      "execution_count": 192,
      "outputs": [
        {
          "output_type": "stream",
          "text": [
            "AxesImage(54,36;334.8x217.44)\n"
          ],
          "name": "stdout"
        },
        {
          "output_type": "display_data",
          "data": {
            "image/png": "[encoded data removed]",
            "text/plain": [
              "<Figure size 432x288 with 1 Axes>"
            ]
          },
          "metadata": {
            "tags": [],
            "needs_background": "light"
          }
        }
      ]
    }
  ]
}