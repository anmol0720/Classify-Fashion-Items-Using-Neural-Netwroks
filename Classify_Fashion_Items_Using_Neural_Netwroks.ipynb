{
  "nbformat": 4,
  "nbformat_minor": 0,
  "metadata": {
    "colab": {
      "name": "Classify Fashion Items Using Neural Netwroks",
      "provenance": [],
      "authorship_tag": "ABX9TyNgYh8ZCpNh1V6AqMIrQrdu",
      "include_colab_link": true
    },
    "kernelspec": {
      "name": "python3",
      "display_name": "Python 3"
    }
  },
  "cells": [
    {
      "cell_type": "markdown",
      "metadata": {
        "id": "view-in-github",
        "colab_type": "text"
      },
      "source": [
        "<a href=\"https://colab.research.google.com/github/anmol0720/Classify-Fashion-Items-Using-Neural-Netwroks/blob/master/Classify_Fashion_Items_Using_Neural_Netwroks.ipynb\" target=\"_parent\"><img src=\"https://colab.research.google.com/assets/colab-badge.svg\" alt=\"Open In Colab\"/></a>"
      ]
    },
    {
      "cell_type": "code",
      "metadata": {
        "id": "kFAlCrfsf68w",
        "colab_type": "code",
        "colab": {}
      },
      "source": [
        "import numpy as np\n",
        "import pandas as pd\n",
        "%matplotlib inline\n",
        "import matplotlib as npl\n",
        "import matplotlib.pyplot as plt"
      ],
      "execution_count": 0,
      "outputs": []
    },
    {
      "cell_type": "code",
      "metadata": {
        "id": "BlSMJqLAwnoA",
        "colab_type": "code",
        "colab": {}
      },
      "source": [
        "import tensorflow as tf"
      ],
      "execution_count": 0,
      "outputs": []
    },
    {
      "cell_type": "code",
      "metadata": {
        "id": "zvmM-mH3wqun",
        "colab_type": "code",
        "colab": {}
      },
      "source": [
        "from tensorflow import keras"
      ],
      "execution_count": 0,
      "outputs": []
    },
    {
      "cell_type": "code",
      "metadata": {
        "id": "yEcS5Gjoww7q",
        "colab_type": "code",
        "colab": {
          "base_uri": "https://localhost:8080/",
          "height": 34
        },
        "outputId": "3090ac2e-5e1a-4f09-a24e-32ae018c8702"
      },
      "source": [
        "tf.__version__"
      ],
      "execution_count": 5,
      "outputs": [
        {
          "output_type": "execute_result",
          "data": {
            "text/plain": [
              "'2.2.0-rc3'"
            ]
          },
          "metadata": {
            "tags": []
          },
          "execution_count": 5
        }
      ]
    },
    {
      "cell_type": "code",
      "metadata": {
        "id": "x24foMesw0U1",
        "colab_type": "code",
        "colab": {
          "base_uri": "https://localhost:8080/",
          "height": 34
        },
        "outputId": "31ad69c6-8434-4a86-d7b0-ef23f9a1cbc4"
      },
      "source": [
        "keras.__version__"
      ],
      "execution_count": 6,
      "outputs": [
        {
          "output_type": "execute_result",
          "data": {
            "text/plain": [
              "'2.3.0-tf'"
            ]
          },
          "metadata": {
            "tags": []
          },
          "execution_count": 6
        }
      ]
    },
    {
      "cell_type": "code",
      "metadata": {
        "id": "clpbifDtxC7G",
        "colab_type": "code",
        "colab": {}
      },
      "source": [
        "fas=keras.datasets.fashion_mnist"
      ],
      "execution_count": 0,
      "outputs": []
    },
    {
      "cell_type": "code",
      "metadata": {
        "id": "70wdet5GxXAS",
        "colab_type": "code",
        "colab": {}
      },
      "source": [
        "(x_train_t,y_train_t),(x_test,y_test)=fas.load_data()"
      ],
      "execution_count": 0,
      "outputs": []
    },
    {
      "cell_type": "code",
      "metadata": {
        "id": "l9daOEJXxqKF",
        "colab_type": "code",
        "colab": {
          "base_uri": "https://localhost:8080/",
          "height": 282
        },
        "outputId": "25e2a9ee-2b55-427a-f81c-3273eba05367"
      },
      "source": [
        "plt.imshow(x_train_t[7])"
      ],
      "execution_count": 112,
      "outputs": [
        {
          "output_type": "execute_result",
          "data": {
            "text/plain": [
              "<matplotlib.image.AxesImage at 0x7f43a5dd8668>"
            ]
          },
          "metadata": {
            "tags": []
          },
          "execution_count": 112
        },
        {
          "output_type": "display_data",
          "data": {
            "image/png": "[encoded data removed]",
            "text/plain": [
              "<Figure size 432x288 with 1 Axes>"
            ]
          },
          "metadata": {
            "tags": [],
            "needs_background": "light"
          }
        }
      ]
    },
    {
      "cell_type": "code",
      "metadata": {
        "id": "T45u1FFMyRBQ",
        "colab_type": "code",
        "colab": {
          "base_uri": "https://localhost:8080/",
          "height": 34
        },
        "outputId": "e9f26f8e-70c4-4b1f-d8c3-1343e6839631"
      },
      "source": [
        "y_train_t[7]"
      ],
      "execution_count": 113,
      "outputs": [
        {
          "output_type": "execute_result",
          "data": {
            "text/plain": [
              "2"
            ]
          },
          "metadata": {
            "tags": []
          },
          "execution_count": 113
        }
      ]
    },
    {
      "cell_type": "code",
      "metadata": {
        "id": "q-ShW-h5yZm4",
        "colab_type": "code",
        "colab": {}
      },
      "source": [
        "class_name=['T-shirt/Top','Trouser','Pullover','Dress','Coat','Sandal','Shirt','Sneaker','Bag','Ankle Boot']"
      ],
      "execution_count": 0,
      "outputs": []
    },
    {
      "cell_type": "code",
      "metadata": {
        "id": "jaAtShx-y1Vj",
        "colab_type": "code",
        "colab": {
          "base_uri": "https://localhost:8080/",
          "height": 34
        },
        "outputId": "3f4e11d6-61ef-4b75-c5fd-bc997c6cb0a4"
      },
      "source": [
        "class_name[y_train_t[7]]"
      ],
      "execution_count": 115,
      "outputs": [
        {
          "output_type": "execute_result",
          "data": {
            "text/plain": [
              "'Pullover'"
            ]
          },
          "metadata": {
            "tags": []
          },
          "execution_count": 115
        }
      ]
    },
    {
      "cell_type": "markdown",
      "metadata": {
        "id": "fF9aNksozAxf",
        "colab_type": "text"
      },
      "source": [
        "*These all Categories are Predefined*"
      ]
    },
    {
      "cell_type": "code",
      "metadata": {
        "id": "ibPI9ajty_Zi",
        "colab_type": "code",
        "colab": {
          "base_uri": "https://localhost:8080/",
          "height": 1000
        },
        "outputId": "9d2b6bf8-c4df-495f-fc82-d4cda3e1293a"
      },
      "source": [
        "x_train_t[7]"
      ],
      "execution_count": 116,
      "outputs": [
        {
          "output_type": "execute_result",
          "data": {
            "text/plain": [
              "array([[  0,   0,   0,   0,   0,   1,   1,   0,   0,   0,   0,  63,  28,\n",
              "          0,   0,   0,  33,  85,   0,   0,   0,   0,   0,   0,   0,   0,\n",
              "          0,   0],\n",
              "       [  0,   0,   0,   0,   0,   2,   0,   0,  28, 126, 241, 255, 255,\n",
              "        255, 255, 255, 255, 252, 248, 111,   0,   0,   0,   2,   0,   0,\n",
              "          0,   0],\n",
              "       [  0,   0,   0,   0,   2,   0,   0, 206, 244, 251, 241, 230, 238,\n",
              "        221, 205, 230, 240, 230, 239, 251, 233, 165,   0,   0,   2,   0,\n",
              "          0,   0],\n",
              "       [  0,   0,   0,   1,   0,   0, 199, 251, 228, 234, 233, 236, 235,\n",
              "        245, 247, 237, 234, 239, 230, 230, 235, 255, 176,   0,   0,   1,\n",
              "          0,   0],\n",
              "       [  0,   0,   0,   0,   0,  81, 254, 226, 228, 239, 237, 236, 234,\n",
              "        232, 233, 235, 235, 236, 239, 237, 233, 225, 246,  73,   0,   0,\n",
              "          0,   0],\n",
              "       [  0,   0,   3,   0,   0, 255, 235, 239, 223, 234, 238, 236, 237,\n",
              "        236, 235, 235, 235, 235, 236, 235, 234, 230, 231, 255,  24,   0,\n",
              "          4,   0],\n",
              "       [  0,   0,   0,   0, 177, 239, 223, 254, 223, 232, 234, 234, 236,\n",
              "        236, 235, 235, 235, 235, 235, 234, 231, 233, 222, 246,  88,   0,\n",
              "          1,   0],\n",
              "       [  0,   0,   0,   0, 234, 239, 229, 255, 220, 232, 233, 232, 234,\n",
              "        235, 235, 235, 235, 235, 234, 233, 232, 230, 228, 254, 140,   0,\n",
              "          0,   0],\n",
              "       [  0,   0,   0,   0, 225, 240, 226, 255, 221, 227, 232, 228, 231,\n",
              "        230, 228, 229, 231, 230, 228, 228, 232, 223, 229, 244, 231,   0,\n",
              "          0,   0],\n",
              "       [  0,   0,   0,  47, 245, 231, 234, 249, 229, 221, 229, 225, 229,\n",
              "        227, 226, 227, 228, 227, 228, 229, 228, 224, 246, 240, 227,   0,\n",
              "          0,   0],\n",
              "       [  0,   0,   0,  51, 248, 230, 245, 246, 230, 226, 230, 227, 230,\n",
              "        229, 228, 229, 230, 228, 228, 231, 225, 227, 242, 237, 255,   0,\n",
              "          0,   0],\n",
              "       [  0,   0,   0, 101, 253, 229, 247, 241, 221, 233, 228, 227, 229,\n",
              "        228, 227, 228, 230, 227, 230, 234, 225, 229, 251, 229, 243,  55,\n",
              "          0,   0],\n",
              "       [  0,   0,   0, 102, 255, 227, 242, 241, 221, 234, 223, 230, 228,\n",
              "        231, 229, 231, 231, 227, 229, 241, 219, 236, 254, 225, 250, 167,\n",
              "          0,   0],\n",
              "       [  0,   0,   0,  90, 255, 229, 236, 231, 222, 236, 223, 231, 229,\n",
              "        231, 229, 231, 231, 228, 224, 245, 218, 243, 239, 227, 244, 175,\n",
              "          0,   0],\n",
              "       [  0,   0,   0, 212, 250, 225, 236, 249, 229, 237, 223, 231, 229,\n",
              "        231, 229, 231, 231, 230, 221, 243, 225, 248, 230, 236, 234, 255,\n",
              "          1,   0],\n",
              "       [  0,   0,   0, 245, 243, 232, 243, 218, 228, 238, 222, 231, 229,\n",
              "        231, 229, 231, 231, 230, 222, 237, 237, 252, 229, 239, 240, 223,\n",
              "          0,   0],\n",
              "       [  0,   0,  27, 255, 235, 242, 237, 216, 230, 236, 224, 229, 227,\n",
              "        233, 233, 233, 230, 228, 224, 230, 245, 247, 221, 243, 239, 252,\n",
              "          0,   0],\n",
              "       [  0,   0,  88, 255, 232, 248, 236, 208, 234, 231, 223, 227, 226,\n",
              "        233, 232, 232, 230, 228, 224, 224, 235, 233, 234, 247, 235, 255,\n",
              "          0,   0],\n",
              "       [  0,   0,  83, 255, 225, 250, 237, 224, 236, 229, 225, 225, 227,\n",
              "        235, 229, 231, 230, 230, 227, 221, 227, 221, 239, 250, 231, 255,\n",
              "          0,   0],\n",
              "       [  0,   0,  20, 255, 224, 248, 234, 226, 232, 222, 225, 224, 231,\n",
              "        238, 226, 230, 228, 230, 230, 221, 229, 225, 244, 246, 230, 255,\n",
              "          0,   0],\n",
              "       [  0,   0,  95, 255, 218, 242, 255, 232, 226, 224, 229, 228, 228,\n",
              "        232, 228, 229, 231, 233, 232, 226, 221, 224, 247, 244, 228, 255,\n",
              "          0,   0],\n",
              "       [  0,   0, 167, 255, 213, 235, 255,  81, 245, 251, 238, 236, 230,\n",
              "        229, 230, 229, 230, 231, 238, 240, 255, 192, 255, 239, 228, 255,\n",
              "         23,   0],\n",
              "       [  0,   0, 173, 242, 224, 233, 255,   0, 136, 226, 239, 255, 229,\n",
              "        236, 236, 234, 233, 228, 251, 248, 200,  81, 255, 237, 225, 255,\n",
              "        101,   0],\n",
              "       [  0,   0, 172, 255, 226, 233, 255,   0,   0,   0,   0,   0,   8,\n",
              "         21,  22,  21,  20,  14,   0,   0,   0,   0, 255, 238, 229, 246,\n",
              "        178,   0],\n",
              "       [  0,   0,  16, 255, 236, 238, 252,   0,   0,   0,   0,   0,   0,\n",
              "          0,   0,   0,   0,   0,   0,   0,   0,   0, 222, 244, 222, 254,\n",
              "        119,   0],\n",
              "       [  0,   0,   0,  30, 228, 242, 163,   0,   0,   0,   0,   2,   4,\n",
              "          6,   5,   5,   4,   4,   2,   0,   1,   0, 151, 251, 235, 180,\n",
              "          0,   0],\n",
              "       [  0,   0,   0,   0, 234, 255, 191,   0,  11,   0,   0,   0,   0,\n",
              "          0,   0,   0,   0,   0,   0,   0,   4,   0, 103, 246, 247,  72,\n",
              "          0,   0],\n",
              "       [  0,   0,   0,   1,  95,  77,  52,   0,   4,   0,   0,   0,   0,\n",
              "          0,   0,   0,   0,   0,   0,   0,   3,   0,  82, 237, 231,  70,\n",
              "          0,   0]], dtype=uint8)"
            ]
          },
          "metadata": {
            "tags": []
          },
          "execution_count": 116
        }
      ]
    },
    {
      "cell_type": "markdown",
      "metadata": {
        "id": "VmP-rsQKzXc9",
        "colab_type": "text"
      },
      "source": [
        "These Represent Pixel Values Row wise"
      ]
    },
    {
      "cell_type": "markdown",
      "metadata": {
        "id": "AxF-OV8S1jpR",
        "colab_type": "text"
      },
      "source": [
        "Data Normalisation"
      ]
    },
    {
      "cell_type": "code",
      "metadata": {
        "id": "Wo9apUU3zedK",
        "colab_type": "code",
        "colab": {}
      },
      "source": [
        "x_train_n=x_train_t/255.\n",
        "x_test_n=x_test/255."
      ],
      "execution_count": 0,
      "outputs": []
    },
    {
      "cell_type": "markdown",
      "metadata": {
        "id": "xOCvdeVa15TF",
        "colab_type": "text"
      },
      "source": [
        "*255 because we know our upper bound*"
      ]
    },
    {
      "cell_type": "markdown",
      "metadata": {
        "id": "_YRN12ka25Da",
        "colab_type": "text"
      },
      "source": [
        "Split Data"
      ]
    },
    {
      "cell_type": "code",
      "metadata": {
        "id": "iI0dhWXOAgzf",
        "colab_type": "code",
        "colab": {}
      },
      "source": [
        "X_valid,X_train=x_train_n[:5000],x_train_n[5000:]"
      ],
      "execution_count": 0,
      "outputs": []
    },
    {
      "cell_type": "code",
      "metadata": {
        "id": "LaUFjxZa12xI",
        "colab_type": "code",
        "colab": {}
      },
      "source": [
        "y_valid,y_train=y_train_t[:5000],y_train_t[5000:]\n",
        "X_test=x_test_n"
      ],
      "execution_count": 0,
      "outputs": []
    },
    {
      "cell_type": "code",
      "metadata": {
        "id": "YSNigWvj_9uu",
        "colab_type": "code",
        "colab": {
          "base_uri": "https://localhost:8080/",
          "height": 34
        },
        "outputId": "379122a1-40fc-4541-9987-93d10ed26425"
      },
      "source": [
        "X_train.shape"
      ],
      "execution_count": 120,
      "outputs": [
        {
          "output_type": "execute_result",
          "data": {
            "text/plain": [
              "(55000, 28, 28)"
            ]
          },
          "metadata": {
            "tags": []
          },
          "execution_count": 120
        }
      ]
    },
    {
      "cell_type": "code",
      "metadata": {
        "id": "i4nCTDzMBuy8",
        "colab_type": "code",
        "colab": {
          "base_uri": "https://localhost:8080/",
          "height": 34
        },
        "outputId": "d7e46067-de65-41fc-edc5-a85a74c6c1ff"
      },
      "source": [
        "y_train.shape"
      ],
      "execution_count": 121,
      "outputs": [
        {
          "output_type": "execute_result",
          "data": {
            "text/plain": [
              "(55000,)"
            ]
          },
          "metadata": {
            "tags": []
          },
          "execution_count": 121
        }
      ]
    },
    {
      "cell_type": "code",
      "metadata": {
        "id": "iBJ6z3T_3isF",
        "colab_type": "code",
        "colab": {
          "base_uri": "https://localhost:8080/",
          "height": 1000
        },
        "outputId": "df5cb1a4-b1c8-4e44-bdf9-1bb4eb9cc76b"
      },
      "source": [
        "x_valid[0]"
      ],
      "execution_count": 122,
      "outputs": [
        {
          "output_type": "execute_result",
          "data": {
            "text/plain": [
              "array([[0.        , 0.        , 0.        , 0.        , 0.        ,\n",
              "        0.        , 0.        , 0.        , 0.        , 0.        ,\n",
              "        0.        , 0.        , 0.        , 0.        , 0.        ,\n",
              "        0.        , 0.        , 0.        , 0.        , 0.        ,\n",
              "        0.        , 0.        , 0.        , 0.        , 0.        ,\n",
              "        0.        , 0.        , 0.        ],\n",
              "       [0.        , 0.        , 0.        , 0.        , 0.        ,\n",
              "        0.        , 0.        , 0.        , 0.        , 0.        ,\n",
              "        0.        , 0.        , 0.        , 0.        , 0.        ,\n",
              "        0.        , 0.        , 0.        , 0.        , 0.        ,\n",
              "        0.        , 0.        , 0.        , 0.        , 0.        ,\n",
              "        0.        , 0.        , 0.        ],\n",
              "       [0.        , 0.        , 0.        , 0.        , 0.        ,\n",
              "        0.        , 0.        , 0.        , 0.        , 0.        ,\n",
              "        0.        , 0.        , 0.        , 0.        , 0.        ,\n",
              "        0.        , 0.        , 0.        , 0.        , 0.        ,\n",
              "        0.        , 0.        , 0.        , 0.        , 0.        ,\n",
              "        0.        , 0.        , 0.        ],\n",
              "       [0.        , 0.        , 0.        , 0.        , 0.        ,\n",
              "        0.        , 0.        , 0.        , 0.        , 0.        ,\n",
              "        0.        , 0.        , 0.00392157, 0.        , 0.        ,\n",
              "        0.05098039, 0.28627451, 0.        , 0.        , 0.00392157,\n",
              "        0.01568627, 0.        , 0.        , 0.        , 0.        ,\n",
              "        0.00392157, 0.00392157, 0.        ],\n",
              "       [0.        , 0.        , 0.        , 0.        , 0.        ,\n",
              "        0.        , 0.        , 0.        , 0.        , 0.        ,\n",
              "        0.        , 0.        , 0.01176471, 0.        , 0.14117647,\n",
              "        0.53333333, 0.49803922, 0.24313725, 0.21176471, 0.        ,\n",
              "        0.        , 0.        , 0.00392157, 0.01176471, 0.01568627,\n",
              "        0.        , 0.        , 0.01176471],\n",
              "       [0.        , 0.        , 0.        , 0.        , 0.        ,\n",
              "        0.        , 0.        , 0.        , 0.        , 0.        ,\n",
              "        0.        , 0.        , 0.02352941, 0.        , 0.4       ,\n",
              "        0.8       , 0.69019608, 0.5254902 , 0.56470588, 0.48235294,\n",
              "        0.09019608, 0.        , 0.        , 0.        , 0.        ,\n",
              "        0.04705882, 0.03921569, 0.        ],\n",
              "       [0.        , 0.        , 0.        , 0.        , 0.        ,\n",
              "        0.        , 0.        , 0.        , 0.        , 0.        ,\n",
              "        0.        , 0.        , 0.        , 0.        , 0.60784314,\n",
              "        0.9254902 , 0.81176471, 0.69803922, 0.41960784, 0.61176471,\n",
              "        0.63137255, 0.42745098, 0.25098039, 0.09019608, 0.30196078,\n",
              "        0.50980392, 0.28235294, 0.05882353],\n",
              "       [0.        , 0.        , 0.        , 0.        , 0.        ,\n",
              "        0.        , 0.        , 0.        , 0.        , 0.        ,\n",
              "        0.        , 0.00392157, 0.        , 0.27058824, 0.81176471,\n",
              "        0.8745098 , 0.85490196, 0.84705882, 0.84705882, 0.63921569,\n",
              "        0.49803922, 0.4745098 , 0.47843137, 0.57254902, 0.55294118,\n",
              "        0.34509804, 0.6745098 , 0.25882353],\n",
              "       [0.        , 0.        , 0.        , 0.        , 0.        ,\n",
              "        0.        , 0.        , 0.        , 0.        , 0.00392157,\n",
              "        0.00392157, 0.00392157, 0.        , 0.78431373, 0.90980392,\n",
              "        0.90980392, 0.91372549, 0.89803922, 0.8745098 , 0.8745098 ,\n",
              "        0.84313725, 0.83529412, 0.64313725, 0.49803922, 0.48235294,\n",
              "        0.76862745, 0.89803922, 0.        ],\n",
              "       [0.        , 0.        , 0.        , 0.        , 0.        ,\n",
              "        0.        , 0.        , 0.        , 0.        , 0.        ,\n",
              "        0.        , 0.        , 0.        , 0.71764706, 0.88235294,\n",
              "        0.84705882, 0.8745098 , 0.89411765, 0.92156863, 0.89019608,\n",
              "        0.87843137, 0.87058824, 0.87843137, 0.86666667, 0.8745098 ,\n",
              "        0.96078431, 0.67843137, 0.        ],\n",
              "       [0.        , 0.        , 0.        , 0.        , 0.        ,\n",
              "        0.        , 0.        , 0.        , 0.        , 0.        ,\n",
              "        0.        , 0.        , 0.        , 0.75686275, 0.89411765,\n",
              "        0.85490196, 0.83529412, 0.77647059, 0.70588235, 0.83137255,\n",
              "        0.82352941, 0.82745098, 0.83529412, 0.8745098 , 0.8627451 ,\n",
              "        0.95294118, 0.79215686, 0.        ],\n",
              "       [0.        , 0.        , 0.        , 0.        , 0.        ,\n",
              "        0.        , 0.        , 0.        , 0.        , 0.00392157,\n",
              "        0.01176471, 0.        , 0.04705882, 0.85882353, 0.8627451 ,\n",
              "        0.83137255, 0.85490196, 0.75294118, 0.6627451 , 0.89019608,\n",
              "        0.81568627, 0.85490196, 0.87843137, 0.83137255, 0.88627451,\n",
              "        0.77254902, 0.81960784, 0.20392157],\n",
              "       [0.        , 0.        , 0.        , 0.        , 0.        ,\n",
              "        0.        , 0.        , 0.        , 0.        , 0.        ,\n",
              "        0.02352941, 0.        , 0.38823529, 0.95686275, 0.87058824,\n",
              "        0.8627451 , 0.85490196, 0.79607843, 0.77647059, 0.86666667,\n",
              "        0.84313725, 0.83529412, 0.87058824, 0.8627451 , 0.96078431,\n",
              "        0.46666667, 0.65490196, 0.21960784],\n",
              "       [0.        , 0.        , 0.        , 0.        , 0.        ,\n",
              "        0.        , 0.        , 0.        , 0.        , 0.01568627,\n",
              "        0.        , 0.        , 0.21568627, 0.9254902 , 0.89411765,\n",
              "        0.90196078, 0.89411765, 0.94117647, 0.90980392, 0.83529412,\n",
              "        0.85490196, 0.8745098 , 0.91764706, 0.85098039, 0.85098039,\n",
              "        0.81960784, 0.36078431, 0.        ],\n",
              "       [0.        , 0.        , 0.00392157, 0.01568627, 0.02352941,\n",
              "        0.02745098, 0.00784314, 0.        , 0.        , 0.        ,\n",
              "        0.        , 0.        , 0.92941176, 0.88627451, 0.85098039,\n",
              "        0.8745098 , 0.87058824, 0.85882353, 0.87058824, 0.86666667,\n",
              "        0.84705882, 0.8745098 , 0.89803922, 0.84313725, 0.85490196,\n",
              "        1.        , 0.30196078, 0.        ],\n",
              "       [0.        , 0.01176471, 0.        , 0.        , 0.        ,\n",
              "        0.        , 0.        , 0.        , 0.        , 0.24313725,\n",
              "        0.56862745, 0.8       , 0.89411765, 0.81176471, 0.83529412,\n",
              "        0.86666667, 0.85490196, 0.81568627, 0.82745098, 0.85490196,\n",
              "        0.87843137, 0.8745098 , 0.85882353, 0.84313725, 0.87843137,\n",
              "        0.95686275, 0.62352941, 0.        ],\n",
              "       [0.        , 0.        , 0.        , 0.        , 0.07058824,\n",
              "        0.17254902, 0.32156863, 0.41960784, 0.74117647, 0.89411765,\n",
              "        0.8627451 , 0.87058824, 0.85098039, 0.88627451, 0.78431373,\n",
              "        0.80392157, 0.82745098, 0.90196078, 0.87843137, 0.91764706,\n",
              "        0.69019608, 0.7372549 , 0.98039216, 0.97254902, 0.91372549,\n",
              "        0.93333333, 0.84313725, 0.        ],\n",
              "       [0.        , 0.22352941, 0.73333333, 0.81568627, 0.87843137,\n",
              "        0.86666667, 0.87843137, 0.81568627, 0.8       , 0.83921569,\n",
              "        0.81568627, 0.81960784, 0.78431373, 0.62352941, 0.96078431,\n",
              "        0.75686275, 0.80784314, 0.8745098 , 1.        , 1.        ,\n",
              "        0.86666667, 0.91764706, 0.86666667, 0.82745098, 0.8627451 ,\n",
              "        0.90980392, 0.96470588, 0.        ],\n",
              "       [0.01176471, 0.79215686, 0.89411765, 0.87843137, 0.86666667,\n",
              "        0.82745098, 0.82745098, 0.83921569, 0.80392157, 0.80392157,\n",
              "        0.80392157, 0.8627451 , 0.94117647, 0.31372549, 0.58823529,\n",
              "        1.        , 0.89803922, 0.86666667, 0.7372549 , 0.60392157,\n",
              "        0.74901961, 0.82352941, 0.8       , 0.81960784, 0.87058824,\n",
              "        0.89411765, 0.88235294, 0.        ],\n",
              "       [0.38431373, 0.91372549, 0.77647059, 0.82352941, 0.87058824,\n",
              "        0.89803922, 0.89803922, 0.91764706, 0.97647059, 0.8627451 ,\n",
              "        0.76078431, 0.84313725, 0.85098039, 0.94509804, 0.25490196,\n",
              "        0.28627451, 0.41568627, 0.45882353, 0.65882353, 0.85882353,\n",
              "        0.86666667, 0.84313725, 0.85098039, 0.8745098 , 0.8745098 ,\n",
              "        0.87843137, 0.89803922, 0.11372549],\n",
              "       [0.29411765, 0.8       , 0.83137255, 0.8       , 0.75686275,\n",
              "        0.80392157, 0.82745098, 0.88235294, 0.84705882, 0.7254902 ,\n",
              "        0.77254902, 0.80784314, 0.77647059, 0.83529412, 0.94117647,\n",
              "        0.76470588, 0.89019608, 0.96078431, 0.9372549 , 0.8745098 ,\n",
              "        0.85490196, 0.83137255, 0.81960784, 0.87058824, 0.8627451 ,\n",
              "        0.86666667, 0.90196078, 0.2627451 ],\n",
              "       [0.18823529, 0.79607843, 0.71764706, 0.76078431, 0.83529412,\n",
              "        0.77254902, 0.7254902 , 0.74509804, 0.76078431, 0.75294118,\n",
              "        0.79215686, 0.83921569, 0.85882353, 0.86666667, 0.8627451 ,\n",
              "        0.9254902 , 0.88235294, 0.84705882, 0.78039216, 0.80784314,\n",
              "        0.72941176, 0.70980392, 0.69411765, 0.6745098 , 0.70980392,\n",
              "        0.80392157, 0.80784314, 0.45098039],\n",
              "       [0.        , 0.47843137, 0.85882353, 0.75686275, 0.70196078,\n",
              "        0.67058824, 0.71764706, 0.76862745, 0.8       , 0.82352941,\n",
              "        0.83529412, 0.81176471, 0.82745098, 0.82352941, 0.78431373,\n",
              "        0.76862745, 0.76078431, 0.74901961, 0.76470588, 0.74901961,\n",
              "        0.77647059, 0.75294118, 0.69019608, 0.61176471, 0.65490196,\n",
              "        0.69411765, 0.82352941, 0.36078431],\n",
              "       [0.        , 0.        , 0.29019608, 0.74117647, 0.83137255,\n",
              "        0.74901961, 0.68627451, 0.6745098 , 0.68627451, 0.70980392,\n",
              "        0.7254902 , 0.7372549 , 0.74117647, 0.7372549 , 0.75686275,\n",
              "        0.77647059, 0.8       , 0.81960784, 0.82352941, 0.82352941,\n",
              "        0.82745098, 0.7372549 , 0.7372549 , 0.76078431, 0.75294118,\n",
              "        0.84705882, 0.66666667, 0.        ],\n",
              "       [0.00784314, 0.        , 0.        , 0.        , 0.25882353,\n",
              "        0.78431373, 0.87058824, 0.92941176, 0.9372549 , 0.94901961,\n",
              "        0.96470588, 0.95294118, 0.95686275, 0.86666667, 0.8627451 ,\n",
              "        0.75686275, 0.74901961, 0.70196078, 0.71372549, 0.71372549,\n",
              "        0.70980392, 0.69019608, 0.65098039, 0.65882353, 0.38823529,\n",
              "        0.22745098, 0.        , 0.        ],\n",
              "       [0.        , 0.        , 0.        , 0.        , 0.        ,\n",
              "        0.        , 0.        , 0.15686275, 0.23921569, 0.17254902,\n",
              "        0.28235294, 0.16078431, 0.1372549 , 0.        , 0.        ,\n",
              "        0.        , 0.        , 0.        , 0.        , 0.        ,\n",
              "        0.        , 0.        , 0.        , 0.        , 0.        ,\n",
              "        0.        , 0.        , 0.        ],\n",
              "       [0.        , 0.        , 0.        , 0.        , 0.        ,\n",
              "        0.        , 0.        , 0.        , 0.        , 0.        ,\n",
              "        0.        , 0.        , 0.        , 0.        , 0.        ,\n",
              "        0.        , 0.        , 0.        , 0.        , 0.        ,\n",
              "        0.        , 0.        , 0.        , 0.        , 0.        ,\n",
              "        0.        , 0.        , 0.        ],\n",
              "       [0.        , 0.        , 0.        , 0.        , 0.        ,\n",
              "        0.        , 0.        , 0.        , 0.        , 0.        ,\n",
              "        0.        , 0.        , 0.        , 0.        , 0.        ,\n",
              "        0.        , 0.        , 0.        , 0.        , 0.        ,\n",
              "        0.        , 0.        , 0.        , 0.        , 0.        ,\n",
              "        0.        , 0.        , 0.        ]])"
            ]
          },
          "metadata": {
            "tags": []
          },
          "execution_count": 122
        }
      ]
    },
    {
      "cell_type": "code",
      "metadata": {
        "id": "f2cA_7Kb3rx5",
        "colab_type": "code",
        "colab": {}
      },
      "source": [
        "np.random.seed(42)\n",
        "tf.random.set_seed(42)"
      ],
      "execution_count": 0,
      "outputs": []
    },
    {
      "cell_type": "code",
      "metadata": {
        "id": "WUtRXQuw7X8b",
        "colab_type": "code",
        "colab": {}
      },
      "source": [
        "model=keras.models.Sequential()\n",
        "model.add(keras.layers.Flatten(input_shape=[28*28]))\n",
        "model.add(keras.layers.Dense(300,activation='relu'))\n",
        "model.add(keras.layers.Dense(100,activation='relu'))\n",
        "model.add(keras.layers.Dense(10,activation='softmax'))"
      ],
      "execution_count": 0,
      "outputs": []
    },
    {
      "cell_type": "code",
      "metadata": {
        "id": "27ObT7hJ8Mhd",
        "colab_type": "code",
        "colab": {
          "base_uri": "https://localhost:8080/",
          "height": 298
        },
        "outputId": "e989cc24-f454-44b4-aeb4-73e77e6dcdfa"
      },
      "source": [
        "model.summary()"
      ],
      "execution_count": 126,
      "outputs": [
        {
          "output_type": "stream",
          "text": [
            "Model: \"sequential_4\"\n",
            "_________________________________________________________________\n",
            "Layer (type)                 Output Shape              Param #   \n",
            "=================================================================\n",
            "flatten_4 (Flatten)          (None, 784)               0         \n",
            "_________________________________________________________________\n",
            "dense_12 (Dense)             (None, 300)               235500    \n",
            "_________________________________________________________________\n",
            "dense_13 (Dense)             (None, 100)               30100     \n",
            "_________________________________________________________________\n",
            "dense_14 (Dense)             (None, 10)                1010      \n",
            "=================================================================\n",
            "Total params: 266,610\n",
            "Trainable params: 266,610\n",
            "Non-trainable params: 0\n",
            "_________________________________________________________________\n"
          ],
          "name": "stdout"
        }
      ]
    },
    {
      "cell_type": "code",
      "metadata": {
        "id": "hOs-JMYd8TA0",
        "colab_type": "code",
        "colab": {
          "base_uri": "https://localhost:8080/",
          "height": 466
        },
        "outputId": "18f34287-87d6-4fa5-d683-7b50aacfe7c1"
      },
      "source": [
        "import pydot\n",
        "keras.utils.plot_model(model)"
      ],
      "execution_count": 127,
      "outputs": [
        {
          "output_type": "execute_result",
          "data": {
            "image/png": "[encoded data removed]",
            "text/plain": [
              "<IPython.core.display.Image object>"
            ]
          },
          "metadata": {
            "tags": []
          },
          "execution_count": 127
        }
      ]
    },
    {
      "cell_type": "code",
      "metadata": {
        "id": "ePD72Tza9Gxp",
        "colab_type": "code",
        "colab": {}
      },
      "source": [
        "weights,biases=model.layers[1].get_weights()"
      ],
      "execution_count": 0,
      "outputs": []
    },
    {
      "cell_type": "code",
      "metadata": {
        "id": "pJSgI8qF9TI8",
        "colab_type": "code",
        "colab": {
          "base_uri": "https://localhost:8080/",
          "height": 246
        },
        "outputId": "712adc36-5941-415e-d358-8b2dbecef98f"
      },
      "source": [
        "weights"
      ],
      "execution_count": 129,
      "outputs": [
        {
          "output_type": "execute_result",
          "data": {
            "text/plain": [
              "array([[ 0.03574536, -0.02389931,  0.01030421, ..., -0.06151724,\n",
              "        -0.0451347 ,  0.03140047],\n",
              "       [-0.05467119,  0.04656268, -0.07248728, ..., -0.07038655,\n",
              "        -0.03083268, -0.06513114],\n",
              "       [-0.03234808, -0.00317231,  0.04102226, ..., -0.03237895,\n",
              "         0.01965773, -0.00825518],\n",
              "       ...,\n",
              "       [-0.0630435 ,  0.07371157, -0.05752673, ...,  0.07049479,\n",
              "         0.05577183, -0.02518321],\n",
              "       [-0.02547856,  0.07304457,  0.04983643, ..., -0.05780029,\n",
              "         0.07438232, -0.0286764 ],\n",
              "       [-0.02862201,  0.01245171, -0.04573321, ...,  0.04891213,\n",
              "        -0.06256616, -0.02975626]], dtype=float32)"
            ]
          },
          "metadata": {
            "tags": []
          },
          "execution_count": 129
        }
      ]
    },
    {
      "cell_type": "code",
      "metadata": {
        "id": "YdSDksyL9VKQ",
        "colab_type": "code",
        "colab": {
          "base_uri": "https://localhost:8080/",
          "height": 34
        },
        "outputId": "af43bdb7-9b56-4c47-bfd1-4800e30bda1c"
      },
      "source": [
        "weights.shape"
      ],
      "execution_count": 130,
      "outputs": [
        {
          "output_type": "execute_result",
          "data": {
            "text/plain": [
              "(784, 300)"
            ]
          },
          "metadata": {
            "tags": []
          },
          "execution_count": 130
        }
      ]
    },
    {
      "cell_type": "code",
      "metadata": {
        "id": "oH_crx3X9X7F",
        "colab_type": "code",
        "colab": {
          "base_uri": "https://localhost:8080/",
          "height": 334
        },
        "outputId": "4719cc3d-d66b-45d2-8a1a-04c795ac5171"
      },
      "source": [
        "biases"
      ],
      "execution_count": 131,
      "outputs": [
        {
          "output_type": "execute_result",
          "data": {
            "text/plain": [
              "array([0., 0., 0., 0., 0., 0., 0., 0., 0., 0., 0., 0., 0., 0., 0., 0., 0.,\n",
              "       0., 0., 0., 0., 0., 0., 0., 0., 0., 0., 0., 0., 0., 0., 0., 0., 0.,\n",
              "       0., 0., 0., 0., 0., 0., 0., 0., 0., 0., 0., 0., 0., 0., 0., 0., 0.,\n",
              "       0., 0., 0., 0., 0., 0., 0., 0., 0., 0., 0., 0., 0., 0., 0., 0., 0.,\n",
              "       0., 0., 0., 0., 0., 0., 0., 0., 0., 0., 0., 0., 0., 0., 0., 0., 0.,\n",
              "       0., 0., 0., 0., 0., 0., 0., 0., 0., 0., 0., 0., 0., 0., 0., 0., 0.,\n",
              "       0., 0., 0., 0., 0., 0., 0., 0., 0., 0., 0., 0., 0., 0., 0., 0., 0.,\n",
              "       0., 0., 0., 0., 0., 0., 0., 0., 0., 0., 0., 0., 0., 0., 0., 0., 0.,\n",
              "       0., 0., 0., 0., 0., 0., 0., 0., 0., 0., 0., 0., 0., 0., 0., 0., 0.,\n",
              "       0., 0., 0., 0., 0., 0., 0., 0., 0., 0., 0., 0., 0., 0., 0., 0., 0.,\n",
              "       0., 0., 0., 0., 0., 0., 0., 0., 0., 0., 0., 0., 0., 0., 0., 0., 0.,\n",
              "       0., 0., 0., 0., 0., 0., 0., 0., 0., 0., 0., 0., 0., 0., 0., 0., 0.,\n",
              "       0., 0., 0., 0., 0., 0., 0., 0., 0., 0., 0., 0., 0., 0., 0., 0., 0.,\n",
              "       0., 0., 0., 0., 0., 0., 0., 0., 0., 0., 0., 0., 0., 0., 0., 0., 0.,\n",
              "       0., 0., 0., 0., 0., 0., 0., 0., 0., 0., 0., 0., 0., 0., 0., 0., 0.,\n",
              "       0., 0., 0., 0., 0., 0., 0., 0., 0., 0., 0., 0., 0., 0., 0., 0., 0.,\n",
              "       0., 0., 0., 0., 0., 0., 0., 0., 0., 0., 0., 0., 0., 0., 0., 0., 0.,\n",
              "       0., 0., 0., 0., 0., 0., 0., 0., 0., 0., 0.], dtype=float32)"
            ]
          },
          "metadata": {
            "tags": []
          },
          "execution_count": 131
        }
      ]
    },
    {
      "cell_type": "code",
      "metadata": {
        "id": "pigQ1mz19a3Z",
        "colab_type": "code",
        "colab": {
          "base_uri": "https://localhost:8080/",
          "height": 34
        },
        "outputId": "f59cd49b-8e01-4920-8ac2-2fc8dd890c0b"
      },
      "source": [
        "biases.shape"
      ],
      "execution_count": 132,
      "outputs": [
        {
          "output_type": "execute_result",
          "data": {
            "text/plain": [
              "(300,)"
            ]
          },
          "metadata": {
            "tags": []
          },
          "execution_count": 132
        }
      ]
    },
    {
      "cell_type": "code",
      "metadata": {
        "id": "JNjgi01--GgK",
        "colab_type": "code",
        "colab": {}
      },
      "source": [
        "model.compile(loss='sparse_categorical_crossentropy',\n",
        "              optimizer='sgd',\n",
        "              metrics=['accuracy'])"
      ],
      "execution_count": 0,
      "outputs": []
    },
    {
      "cell_type": "code",
      "metadata": {
        "id": "R9Uagcqe-uCq",
        "colab_type": "code",
        "colab": {
          "base_uri": "https://localhost:8080/",
          "height": 1000
        },
        "outputId": "0c7bfbdb-b137-42da-b4e6-ec986cc0f594"
      },
      "source": [
        "model_history=model.fit(X_train,y_train,epochs=60,\n",
        "                        validation_data=(X_valid[:5000],y_valid))"
      ],
      "execution_count": 143,
      "outputs": [
        {
          "output_type": "stream",
          "text": [
            "Epoch 1/60\n",
            "1719/1719 [==============================] - 5s 3ms/step - loss: 0.2241 - accuracy: 0.9193 - val_loss: 0.2898 - val_accuracy: 0.8940\n",
            "Epoch 2/60\n",
            "1719/1719 [==============================] - 5s 3ms/step - loss: 0.2212 - accuracy: 0.9206 - val_loss: 0.2913 - val_accuracy: 0.8932\n",
            "Epoch 3/60\n",
            "1719/1719 [==============================] - 5s 3ms/step - loss: 0.2175 - accuracy: 0.9220 - val_loss: 0.3629 - val_accuracy: 0.8680\n",
            "Epoch 4/60\n",
            "1719/1719 [==============================] - 5s 3ms/step - loss: 0.2141 - accuracy: 0.9239 - val_loss: 0.2986 - val_accuracy: 0.8918\n",
            "Epoch 5/60\n",
            "1719/1719 [==============================] - 5s 3ms/step - loss: 0.2123 - accuracy: 0.9235 - val_loss: 0.2884 - val_accuracy: 0.8940\n",
            "Epoch 6/60\n",
            "1719/1719 [==============================] - 5s 3ms/step - loss: 0.2065 - accuracy: 0.9263 - val_loss: 0.2964 - val_accuracy: 0.8922\n",
            "Epoch 7/60\n",
            "1719/1719 [==============================] - 5s 3ms/step - loss: 0.2040 - accuracy: 0.9274 - val_loss: 0.2915 - val_accuracy: 0.8926\n",
            "Epoch 8/60\n",
            "1719/1719 [==============================] - 5s 3ms/step - loss: 0.2020 - accuracy: 0.9271 - val_loss: 0.3152 - val_accuracy: 0.8880\n",
            "Epoch 9/60\n",
            "1719/1719 [==============================] - 5s 3ms/step - loss: 0.1979 - accuracy: 0.9288 - val_loss: 0.2971 - val_accuracy: 0.8880\n",
            "Epoch 10/60\n",
            "1719/1719 [==============================] - 5s 3ms/step - loss: 0.1953 - accuracy: 0.9301 - val_loss: 0.2924 - val_accuracy: 0.8944\n",
            "Epoch 11/60\n",
            "1719/1719 [==============================] - 5s 3ms/step - loss: 0.1925 - accuracy: 0.9309 - val_loss: 0.2863 - val_accuracy: 0.8964\n",
            "Epoch 12/60\n",
            "1719/1719 [==============================] - 5s 3ms/step - loss: 0.1880 - accuracy: 0.9328 - val_loss: 0.3043 - val_accuracy: 0.8882\n",
            "Epoch 13/60\n",
            "1719/1719 [==============================] - 5s 3ms/step - loss: 0.1858 - accuracy: 0.9344 - val_loss: 0.2918 - val_accuracy: 0.8950\n",
            "Epoch 14/60\n",
            "1719/1719 [==============================] - 5s 3ms/step - loss: 0.1835 - accuracy: 0.9345 - val_loss: 0.2978 - val_accuracy: 0.8912\n",
            "Epoch 15/60\n",
            "1719/1719 [==============================] - 5s 3ms/step - loss: 0.1793 - accuracy: 0.9351 - val_loss: 0.2984 - val_accuracy: 0.8918\n",
            "Epoch 16/60\n",
            "1719/1719 [==============================] - 5s 3ms/step - loss: 0.1777 - accuracy: 0.9369 - val_loss: 0.2900 - val_accuracy: 0.8914\n",
            "Epoch 17/60\n",
            "1719/1719 [==============================] - 5s 3ms/step - loss: 0.1749 - accuracy: 0.9368 - val_loss: 0.3511 - val_accuracy: 0.8810\n",
            "Epoch 18/60\n",
            "1719/1719 [==============================] - 5s 3ms/step - loss: 0.1716 - accuracy: 0.9394 - val_loss: 0.2943 - val_accuracy: 0.8956\n",
            "Epoch 19/60\n",
            "1719/1719 [==============================] - 5s 3ms/step - loss: 0.1694 - accuracy: 0.9399 - val_loss: 0.2961 - val_accuracy: 0.8934\n",
            "Epoch 20/60\n",
            "1719/1719 [==============================] - 5s 3ms/step - loss: 0.1663 - accuracy: 0.9409 - val_loss: 0.3210 - val_accuracy: 0.8868\n",
            "Epoch 21/60\n",
            "1719/1719 [==============================] - 5s 3ms/step - loss: 0.1637 - accuracy: 0.9419 - val_loss: 0.3028 - val_accuracy: 0.8948\n",
            "Epoch 22/60\n",
            "1719/1719 [==============================] - 5s 3ms/step - loss: 0.1614 - accuracy: 0.9421 - val_loss: 0.2910 - val_accuracy: 0.8944\n",
            "Epoch 23/60\n",
            "1719/1719 [==============================] - 5s 3ms/step - loss: 0.1590 - accuracy: 0.9426 - val_loss: 0.3049 - val_accuracy: 0.8932\n",
            "Epoch 24/60\n",
            "1719/1719 [==============================] - 5s 3ms/step - loss: 0.1565 - accuracy: 0.9435 - val_loss: 0.3114 - val_accuracy: 0.8908\n",
            "Epoch 25/60\n",
            "1719/1719 [==============================] - 5s 3ms/step - loss: 0.1540 - accuracy: 0.9456 - val_loss: 0.2943 - val_accuracy: 0.8980\n",
            "Epoch 26/60\n",
            "1719/1719 [==============================] - 5s 3ms/step - loss: 0.1512 - accuracy: 0.9458 - val_loss: 0.2969 - val_accuracy: 0.8960\n",
            "Epoch 27/60\n",
            "1719/1719 [==============================] - 5s 3ms/step - loss: 0.1489 - accuracy: 0.9466 - val_loss: 0.3112 - val_accuracy: 0.8994\n",
            "Epoch 28/60\n",
            "1719/1719 [==============================] - 5s 3ms/step - loss: 0.1467 - accuracy: 0.9488 - val_loss: 0.3065 - val_accuracy: 0.8950\n",
            "Epoch 29/60\n",
            "1719/1719 [==============================] - 5s 3ms/step - loss: 0.1449 - accuracy: 0.9484 - val_loss: 0.3139 - val_accuracy: 0.8932\n",
            "Epoch 30/60\n",
            "1719/1719 [==============================] - 5s 3ms/step - loss: 0.1424 - accuracy: 0.9493 - val_loss: 0.3226 - val_accuracy: 0.8928\n",
            "Epoch 31/60\n",
            "1719/1719 [==============================] - 5s 3ms/step - loss: 0.1402 - accuracy: 0.9503 - val_loss: 0.3056 - val_accuracy: 0.8922\n",
            "Epoch 32/60\n",
            "1719/1719 [==============================] - 5s 3ms/step - loss: 0.1375 - accuracy: 0.9520 - val_loss: 0.3188 - val_accuracy: 0.8906\n",
            "Epoch 33/60\n",
            "1719/1719 [==============================] - 5s 3ms/step - loss: 0.1359 - accuracy: 0.9516 - val_loss: 0.3190 - val_accuracy: 0.8936\n",
            "Epoch 34/60\n",
            "1719/1719 [==============================] - 5s 3ms/step - loss: 0.1335 - accuracy: 0.9529 - val_loss: 0.3144 - val_accuracy: 0.8956\n",
            "Epoch 35/60\n",
            "1719/1719 [==============================] - 5s 3ms/step - loss: 0.1297 - accuracy: 0.9543 - val_loss: 0.2990 - val_accuracy: 0.8976\n",
            "Epoch 36/60\n",
            "1719/1719 [==============================] - 5s 3ms/step - loss: 0.1296 - accuracy: 0.9542 - val_loss: 0.3264 - val_accuracy: 0.8900\n",
            "Epoch 37/60\n",
            "1719/1719 [==============================] - 8s 4ms/step - loss: 0.1275 - accuracy: 0.9551 - val_loss: 0.3109 - val_accuracy: 0.8966\n",
            "Epoch 38/60\n",
            "1719/1719 [==============================] - 5s 3ms/step - loss: 0.1236 - accuracy: 0.9565 - val_loss: 0.3006 - val_accuracy: 0.8962\n",
            "Epoch 39/60\n",
            "1719/1719 [==============================] - 5s 3ms/step - loss: 0.1240 - accuracy: 0.9555 - val_loss: 0.3157 - val_accuracy: 0.8972\n",
            "Epoch 40/60\n",
            "1719/1719 [==============================] - 5s 3ms/step - loss: 0.1214 - accuracy: 0.9573 - val_loss: 0.3171 - val_accuracy: 0.8932\n",
            "Epoch 41/60\n",
            "1719/1719 [==============================] - 5s 3ms/step - loss: 0.1190 - accuracy: 0.9581 - val_loss: 0.3198 - val_accuracy: 0.8922\n",
            "Epoch 42/60\n",
            "1719/1719 [==============================] - 5s 3ms/step - loss: 0.1174 - accuracy: 0.9589 - val_loss: 0.3087 - val_accuracy: 0.8964\n",
            "Epoch 43/60\n",
            "1719/1719 [==============================] - 5s 3ms/step - loss: 0.1149 - accuracy: 0.9604 - val_loss: 0.3487 - val_accuracy: 0.8848\n",
            "Epoch 44/60\n",
            "1719/1719 [==============================] - 5s 3ms/step - loss: 0.1137 - accuracy: 0.9603 - val_loss: 0.3221 - val_accuracy: 0.8926\n",
            "Epoch 45/60\n",
            "1719/1719 [==============================] - 5s 3ms/step - loss: 0.1127 - accuracy: 0.9603 - val_loss: 0.3292 - val_accuracy: 0.8918\n",
            "Epoch 46/60\n",
            "1719/1719 [==============================] - 5s 3ms/step - loss: 0.1088 - accuracy: 0.9627 - val_loss: 0.3302 - val_accuracy: 0.8956\n",
            "Epoch 47/60\n",
            "1719/1719 [==============================] - 5s 3ms/step - loss: 0.1068 - accuracy: 0.9620 - val_loss: 0.3287 - val_accuracy: 0.8984\n",
            "Epoch 48/60\n",
            "1719/1719 [==============================] - 5s 3ms/step - loss: 0.1066 - accuracy: 0.9637 - val_loss: 0.3506 - val_accuracy: 0.8918\n",
            "Epoch 49/60\n",
            "1719/1719 [==============================] - 5s 3ms/step - loss: 0.1036 - accuracy: 0.9644 - val_loss: 0.3276 - val_accuracy: 0.8900\n",
            "Epoch 50/60\n",
            "1719/1719 [==============================] - 5s 3ms/step - loss: 0.1032 - accuracy: 0.9646 - val_loss: 0.3493 - val_accuracy: 0.8936\n",
            "Epoch 51/60\n",
            "1719/1719 [==============================] - 5s 3ms/step - loss: 0.1011 - accuracy: 0.9654 - val_loss: 0.3332 - val_accuracy: 0.8964\n",
            "Epoch 52/60\n",
            "1719/1719 [==============================] - 5s 3ms/step - loss: 0.0997 - accuracy: 0.9656 - val_loss: 0.3583 - val_accuracy: 0.8878\n",
            "Epoch 53/60\n",
            "1719/1719 [==============================] - 5s 3ms/step - loss: 0.0986 - accuracy: 0.9657 - val_loss: 0.3409 - val_accuracy: 0.8968\n",
            "Epoch 54/60\n",
            "1719/1719 [==============================] - 5s 3ms/step - loss: 0.0956 - accuracy: 0.9678 - val_loss: 0.3311 - val_accuracy: 0.8986\n",
            "Epoch 55/60\n",
            "1719/1719 [==============================] - 5s 3ms/step - loss: 0.0929 - accuracy: 0.9680 - val_loss: 0.3417 - val_accuracy: 0.8950\n",
            "Epoch 56/60\n",
            "1719/1719 [==============================] - 5s 3ms/step - loss: 0.0926 - accuracy: 0.9672 - val_loss: 0.3496 - val_accuracy: 0.8940\n",
            "Epoch 57/60\n",
            "1719/1719 [==============================] - 5s 3ms/step - loss: 0.0893 - accuracy: 0.9699 - val_loss: 0.3360 - val_accuracy: 0.8954\n",
            "Epoch 58/60\n",
            "1719/1719 [==============================] - 5s 3ms/step - loss: 0.0891 - accuracy: 0.9690 - val_loss: 0.3708 - val_accuracy: 0.8866\n",
            "Epoch 59/60\n",
            "1719/1719 [==============================] - 5s 3ms/step - loss: 0.0877 - accuracy: 0.9701 - val_loss: 0.3460 - val_accuracy: 0.8956\n",
            "Epoch 60/60\n",
            "1719/1719 [==============================] - 5s 3ms/step - loss: 0.0861 - accuracy: 0.9711 - val_loss: 0.3400 - val_accuracy: 0.8972\n"
          ],
          "name": "stdout"
        }
      ]
    },
    {
      "cell_type": "code",
      "metadata": {
        "id": "c-Y1KpMLEvWt",
        "colab_type": "code",
        "colab": {
          "base_uri": "https://localhost:8080/",
          "height": 34
        },
        "outputId": "88e86c0c-04ce-46f6-c1dc-b7f15afe202a"
      },
      "source": [
        "model_history.params"
      ],
      "execution_count": 144,
      "outputs": [
        {
          "output_type": "execute_result",
          "data": {
            "text/plain": [
              "{'epochs': 60, 'steps': 1719, 'verbose': 1}"
            ]
          },
          "metadata": {
            "tags": []
          },
          "execution_count": 144
        }
      ]
    },
    {
      "cell_type": "code",
      "metadata": {
        "id": "EXgqA1srE-bK",
        "colab_type": "code",
        "colab": {
          "base_uri": "https://localhost:8080/",
          "height": 1000
        },
        "outputId": "594bae47-556a-4998-f192-7b694aa22364"
      },
      "source": [
        "model_history.history"
      ],
      "execution_count": 145,
      "outputs": [
        {
          "output_type": "execute_result",
          "data": {
            "text/plain": [
              "{'accuracy': [0.9192727208137512,\n",
              "  0.9206181764602661,\n",
              "  0.921999990940094,\n",
              "  0.923872709274292,\n",
              "  0.9235273003578186,\n",
              "  0.9262545704841614,\n",
              "  0.9273636341094971,\n",
              "  0.9271273016929626,\n",
              "  0.9287818074226379,\n",
              "  0.9300545454025269,\n",
              "  0.9309454560279846,\n",
              "  0.9328363537788391,\n",
              "  0.9344363808631897,\n",
              "  0.9344909191131592,\n",
              "  0.9351454377174377,\n",
              "  0.9368727207183838,\n",
              "  0.9368363618850708,\n",
              "  0.9394363760948181,\n",
              "  0.9399272799491882,\n",
              "  0.9409454464912415,\n",
              "  0.9419272541999817,\n",
              "  0.9420909285545349,\n",
              "  0.9426000118255615,\n",
              "  0.9434545636177063,\n",
              "  0.9456181526184082,\n",
              "  0.9457818269729614,\n",
              "  0.9465636610984802,\n",
              "  0.9488182067871094,\n",
              "  0.9483636617660522,\n",
              "  0.949327290058136,\n",
              "  0.9503454566001892,\n",
              "  0.9520363807678223,\n",
              "  0.9516000151634216,\n",
              "  0.95292729139328,\n",
              "  0.9543091058731079,\n",
              "  0.9542182087898254,\n",
              "  0.9550908803939819,\n",
              "  0.9564545750617981,\n",
              "  0.9555272459983826,\n",
              "  0.9573090672492981,\n",
              "  0.9580727219581604,\n",
              "  0.9588545560836792,\n",
              "  0.9603636264801025,\n",
              "  0.9602727293968201,\n",
              "  0.960345447063446,\n",
              "  0.9626545310020447,\n",
              "  0.9620181918144226,\n",
              "  0.9637454748153687,\n",
              "  0.9644181728363037,\n",
              "  0.9646363854408264,\n",
              "  0.965363621711731,\n",
              "  0.9655818343162537,\n",
              "  0.9657454490661621,\n",
              "  0.9677818417549133,\n",
              "  0.9680181741714478,\n",
              "  0.967163622379303,\n",
              "  0.9698727130889893,\n",
              "  0.968999981880188,\n",
              "  0.9700727462768555,\n",
              "  0.9711272716522217],\n",
              " 'loss': [0.22407054901123047,\n",
              "  0.22116719186306,\n",
              "  0.21754319965839386,\n",
              "  0.214128315448761,\n",
              "  0.21226583421230316,\n",
              "  0.20650209486484528,\n",
              "  0.20399925112724304,\n",
              "  0.2020132690668106,\n",
              "  0.19785799086093903,\n",
              "  0.19532889127731323,\n",
              "  0.1925257444381714,\n",
              "  0.1880141794681549,\n",
              "  0.18575754761695862,\n",
              "  0.1834827959537506,\n",
              "  0.1793232262134552,\n",
              "  0.17770938575267792,\n",
              "  0.17487367987632751,\n",
              "  0.17159651219844818,\n",
              "  0.16942301392555237,\n",
              "  0.1663166582584381,\n",
              "  0.1636638343334198,\n",
              "  0.16144660115242004,\n",
              "  0.15897199511528015,\n",
              "  0.15646573901176453,\n",
              "  0.15403898060321808,\n",
              "  0.15123647451400757,\n",
              "  0.1488518863916397,\n",
              "  0.14669650793075562,\n",
              "  0.14494651556015015,\n",
              "  0.1424492448568344,\n",
              "  0.1401699185371399,\n",
              "  0.13750702142715454,\n",
              "  0.13587142527103424,\n",
              "  0.13352908194065094,\n",
              "  0.12969142198562622,\n",
              "  0.12961123883724213,\n",
              "  0.12748774886131287,\n",
              "  0.1235731765627861,\n",
              "  0.12401680648326874,\n",
              "  0.12137381732463837,\n",
              "  0.11896730959415436,\n",
              "  0.1173894852399826,\n",
              "  0.11494780331850052,\n",
              "  0.1136661171913147,\n",
              "  0.11265147477388382,\n",
              "  0.10879649966955185,\n",
              "  0.1067541092634201,\n",
              "  0.1065952479839325,\n",
              "  0.10355039685964584,\n",
              "  0.10324820876121521,\n",
              "  0.10108967125415802,\n",
              "  0.09967467933893204,\n",
              "  0.09855099767446518,\n",
              "  0.09558700025081635,\n",
              "  0.09290718287229538,\n",
              "  0.09259169548749924,\n",
              "  0.08932287245988846,\n",
              "  0.08908262848854065,\n",
              "  0.08765354007482529,\n",
              "  0.0860922709107399],\n",
              " 'val_accuracy': [0.8939999938011169,\n",
              "  0.8931999802589417,\n",
              "  0.8679999709129333,\n",
              "  0.8917999863624573,\n",
              "  0.8939999938011169,\n",
              "  0.8921999931335449,\n",
              "  0.8925999999046326,\n",
              "  0.8880000114440918,\n",
              "  0.8880000114440918,\n",
              "  0.8944000005722046,\n",
              "  0.896399974822998,\n",
              "  0.8881999850273132,\n",
              "  0.8949999809265137,\n",
              "  0.8912000060081482,\n",
              "  0.8917999863624573,\n",
              "  0.8913999795913696,\n",
              "  0.8809999823570251,\n",
              "  0.8956000208854675,\n",
              "  0.8934000134468079,\n",
              "  0.8867999911308289,\n",
              "  0.8948000073432922,\n",
              "  0.8944000005722046,\n",
              "  0.8931999802589417,\n",
              "  0.8907999992370605,\n",
              "  0.8980000019073486,\n",
              "  0.8960000276565552,\n",
              "  0.899399995803833,\n",
              "  0.8949999809265137,\n",
              "  0.8931999802589417,\n",
              "  0.892799973487854,\n",
              "  0.8921999931335449,\n",
              "  0.8906000256538391,\n",
              "  0.8935999870300293,\n",
              "  0.8956000208854675,\n",
              "  0.897599995136261,\n",
              "  0.8899999856948853,\n",
              "  0.8966000080108643,\n",
              "  0.8962000012397766,\n",
              "  0.8971999883651733,\n",
              "  0.8931999802589417,\n",
              "  0.8921999931335449,\n",
              "  0.896399974822998,\n",
              "  0.8848000168800354,\n",
              "  0.8925999999046326,\n",
              "  0.8917999863624573,\n",
              "  0.8956000208854675,\n",
              "  0.8984000086784363,\n",
              "  0.8917999863624573,\n",
              "  0.8899999856948853,\n",
              "  0.8935999870300293,\n",
              "  0.896399974822998,\n",
              "  0.8877999782562256,\n",
              "  0.8967999815940857,\n",
              "  0.8985999822616577,\n",
              "  0.8949999809265137,\n",
              "  0.8939999938011169,\n",
              "  0.8953999876976013,\n",
              "  0.8866000175476074,\n",
              "  0.8956000208854675,\n",
              "  0.8971999883651733],\n",
              " 'val_loss': [0.2898475229740143,\n",
              "  0.29130473732948303,\n",
              "  0.36292213201522827,\n",
              "  0.29864275455474854,\n",
              "  0.288357675075531,\n",
              "  0.2963694632053375,\n",
              "  0.29146909713745117,\n",
              "  0.3151901662349701,\n",
              "  0.2971128821372986,\n",
              "  0.29242151975631714,\n",
              "  0.28630331158638,\n",
              "  0.30425742268562317,\n",
              "  0.2917962968349457,\n",
              "  0.29779407382011414,\n",
              "  0.2984168827533722,\n",
              "  0.2900053560733795,\n",
              "  0.3511025905609131,\n",
              "  0.2942758798599243,\n",
              "  0.29612410068511963,\n",
              "  0.3209899663925171,\n",
              "  0.3027613162994385,\n",
              "  0.29095256328582764,\n",
              "  0.30493074655532837,\n",
              "  0.31137579679489136,\n",
              "  0.2942807078361511,\n",
              "  0.2968672215938568,\n",
              "  0.3111778199672699,\n",
              "  0.3065204322338104,\n",
              "  0.3138830065727234,\n",
              "  0.32259973883628845,\n",
              "  0.30563637614250183,\n",
              "  0.31879353523254395,\n",
              "  0.3189748227596283,\n",
              "  0.31441301107406616,\n",
              "  0.2989870309829712,\n",
              "  0.3264082372188568,\n",
              "  0.3108583092689514,\n",
              "  0.3006303012371063,\n",
              "  0.31567540764808655,\n",
              "  0.3170713782310486,\n",
              "  0.319831520318985,\n",
              "  0.3087040185928345,\n",
              "  0.3487459719181061,\n",
              "  0.32208073139190674,\n",
              "  0.32922106981277466,\n",
              "  0.3301948308944702,\n",
              "  0.3287293016910553,\n",
              "  0.3505539000034332,\n",
              "  0.327625036239624,\n",
              "  0.3492899537086487,\n",
              "  0.3332265615463257,\n",
              "  0.3582545518875122,\n",
              "  0.34090656042099,\n",
              "  0.3310977816581726,\n",
              "  0.34165051579475403,\n",
              "  0.34956127405166626,\n",
              "  0.3360372483730316,\n",
              "  0.37081801891326904,\n",
              "  0.3460298180580139,\n",
              "  0.34004971385002136]}"
            ]
          },
          "metadata": {
            "tags": []
          },
          "execution_count": 145
        }
      ]
    },
    {
      "cell_type": "code",
      "metadata": {
        "id": "piRpxuibFIsY",
        "colab_type": "code",
        "colab": {
          "base_uri": "https://localhost:8080/",
          "height": 269
        },
        "outputId": "ae653158-045e-4c21-a761-1f2ed14bce56"
      },
      "source": [
        "pd.DataFrame(model.history.history).plot()\n",
        "plt.grid(True)\n",
        "plt.gca().set_ylim(0,1)\n",
        "plt.show()"
      ],
      "execution_count": 146,
      "outputs": [
        {
          "output_type": "display_data",
          "data": {
            "image/png": "[encoded data removed]",
            "text/plain": [
              "<Figure size 432x288 with 1 Axes>"
            ]
          },
          "metadata": {
            "tags": [],
            "needs_background": "light"
          }
        }
      ]
    }
  ]
}