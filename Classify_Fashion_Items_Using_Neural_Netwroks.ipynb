{
  "nbformat": 4,
  "nbformat_minor": 0,
  "metadata": {
    "colab": {
      "name": "Classify Fashion Items Using Neural Netwroks",
      "provenance": [],
      "authorship_tag": "ABX9TyNbACzmB0ATG6QULfGqLeWz",
      "include_colab_link": true
    },
    "kernelspec": {
      "name": "python3",
      "display_name": "Python 3"
    }
  },
  "cells": [
    {
      "cell_type": "markdown",
      "metadata": {
        "id": "view-in-github",
        "colab_type": "text"
      },
      "source": [
        "<a href=\"https://colab.research.google.com/github/anmol0720/Classify-Fashion-Items-Using-Neural-Netwroks/blob/master/Classify_Fashion_Items_Using_Neural_Netwroks.ipynb\" target=\"_parent\"><img src=\"https://colab.research.google.com/assets/colab-badge.svg\" alt=\"Open In Colab\"/></a>"
      ]
    },
    {
      "cell_type": "code",
      "metadata": {
        "id": "kFAlCrfsf68w",
        "colab_type": "code",
        "colab": {}
      },
      "source": [
        "import numpy as np\n",
        "import pandas as pd\n",
        "%matplotlib inline\n",
        "import matplotlib as npl\n",
        "import matplotlib.pyplot as plt"
      ],
      "execution_count": 0,
      "outputs": []
    },
    {
      "cell_type": "code",
      "metadata": {
        "id": "BlSMJqLAwnoA",
        "colab_type": "code",
        "colab": {}
      },
      "source": [
        "import tensorflow as tf"
      ],
      "execution_count": 0,
      "outputs": []
    },
    {
      "cell_type": "code",
      "metadata": {
        "id": "zvmM-mH3wqun",
        "colab_type": "code",
        "colab": {}
      },
      "source": [
        "from tensorflow import keras"
      ],
      "execution_count": 0,
      "outputs": []
    },
    {
      "cell_type": "code",
      "metadata": {
        "id": "yEcS5Gjoww7q",
        "colab_type": "code",
        "colab": {
          "base_uri": "https://localhost:8080/",
          "height": 34
        },
        "outputId": "3090ac2e-5e1a-4f09-a24e-32ae018c8702"
      },
      "source": [
        "tf.__version__"
      ],
      "execution_count": 5,
      "outputs": [
        {
          "output_type": "execute_result",
          "data": {
            "text/plain": [
              "'2.2.0-rc3'"
            ]
          },
          "metadata": {
            "tags": []
          },
          "execution_count": 5
        }
      ]
    },
    {
      "cell_type": "code",
      "metadata": {
        "id": "x24foMesw0U1",
        "colab_type": "code",
        "colab": {
          "base_uri": "https://localhost:8080/",
          "height": 34
        },
        "outputId": "31ad69c6-8434-4a86-d7b0-ef23f9a1cbc4"
      },
      "source": [
        "keras.__version__"
      ],
      "execution_count": 6,
      "outputs": [
        {
          "output_type": "execute_result",
          "data": {
            "text/plain": [
              "'2.3.0-tf'"
            ]
          },
          "metadata": {
            "tags": []
          },
          "execution_count": 6
        }
      ]
    },
    {
      "cell_type": "code",
      "metadata": {
        "id": "clpbifDtxC7G",
        "colab_type": "code",
        "colab": {}
      },
      "source": [
        "fas=keras.datasets.fashion_mnist"
      ],
      "execution_count": 0,
      "outputs": []
    },
    {
      "cell_type": "code",
      "metadata": {
        "id": "70wdet5GxXAS",
        "colab_type": "code",
        "colab": {
          "base_uri": "https://localhost:8080/",
          "height": 158
        },
        "outputId": "655f3c9e-611a-46c4-cd0f-43859293a705"
      },
      "source": [
        "(x_train,y_train),(x_test,y_test)=fas.load_data()"
      ],
      "execution_count": 10,
      "outputs": [
        {
          "output_type": "stream",
          "text": [
            "Downloading data from https://storage.googleapis.com/tensorflow/tf-keras-datasets/train-labels-idx1-ubyte.gz\n",
            "32768/29515 [=================================] - 0s 0us/step\n",
            "Downloading data from https://storage.googleapis.com/tensorflow/tf-keras-datasets/train-images-idx3-ubyte.gz\n",
            "26427392/26421880 [==============================] - 1s 0us/step\n",
            "Downloading data from https://storage.googleapis.com/tensorflow/tf-keras-datasets/t10k-labels-idx1-ubyte.gz\n",
            "8192/5148 [===============================================] - 0s 0us/step\n",
            "Downloading data from https://storage.googleapis.com/tensorflow/tf-keras-datasets/t10k-images-idx3-ubyte.gz\n",
            "4423680/4422102 [==============================] - 0s 0us/step\n"
          ],
          "name": "stdout"
        }
      ]
    },
    {
      "cell_type": "code",
      "metadata": {
        "id": "l9daOEJXxqKF",
        "colab_type": "code",
        "colab": {
          "base_uri": "https://localhost:8080/",
          "height": 282
        },
        "outputId": "abfd7b86-ce0a-4025-80cf-e9201affae05"
      },
      "source": [
        "plt.imshow(x_train[7])"
      ],
      "execution_count": 17,
      "outputs": [
        {
          "output_type": "execute_result",
          "data": {
            "text/plain": [
              "<matplotlib.image.AxesImage at 0x7f43b26909b0>"
            ]
          },
          "metadata": {
            "tags": []
          },
          "execution_count": 17
        },
        {
          "output_type": "display_data",
          "data": {
            "image/png": "[encoded data removed]",
            "text/plain": [
              "<Figure size 432x288 with 1 Axes>"
            ]
          },
          "metadata": {
            "tags": [],
            "needs_background": "light"
          }
        }
      ]
    },
    {
      "cell_type": "code",
      "metadata": {
        "id": "T45u1FFMyRBQ",
        "colab_type": "code",
        "colab": {
          "base_uri": "https://localhost:8080/",
          "height": 34
        },
        "outputId": "595113c0-1fc8-4400-ea03-36e6402b30ba"
      },
      "source": [
        "y_train[7]"
      ],
      "execution_count": 18,
      "outputs": [
        {
          "output_type": "execute_result",
          "data": {
            "text/plain": [
              "2"
            ]
          },
          "metadata": {
            "tags": []
          },
          "execution_count": 18
        }
      ]
    },
    {
      "cell_type": "code",
      "metadata": {
        "id": "q-ShW-h5yZm4",
        "colab_type": "code",
        "colab": {}
      },
      "source": [
        "class_name=['T-shirt/Top','Trouser','Pullover','Dress','Coat','Sandal','Shirt','Sneaker','Bag','Ankle Boot']"
      ],
      "execution_count": 0,
      "outputs": []
    },
    {
      "cell_type": "code",
      "metadata": {
        "id": "jaAtShx-y1Vj",
        "colab_type": "code",
        "colab": {
          "base_uri": "https://localhost:8080/",
          "height": 34
        },
        "outputId": "15906586-50cb-4627-e4ad-f0c164216b1a"
      },
      "source": [
        "class_name[y_train[7]]"
      ],
      "execution_count": 22,
      "outputs": [
        {
          "output_type": "execute_result",
          "data": {
            "text/plain": [
              "'Pullover'"
            ]
          },
          "metadata": {
            "tags": []
          },
          "execution_count": 22
        }
      ]
    },
    {
      "cell_type": "markdown",
      "metadata": {
        "id": "fF9aNksozAxf",
        "colab_type": "text"
      },
      "source": [
        "*These all Categories are Predefined*"
      ]
    },
    {
      "cell_type": "code",
      "metadata": {
        "id": "ibPI9ajty_Zi",
        "colab_type": "code",
        "colab": {
          "base_uri": "https://localhost:8080/",
          "height": 1000
        },
        "outputId": "7642c233-41d4-420e-f75e-fd26baf8bdeb"
      },
      "source": [
        "x_train[7]"
      ],
      "execution_count": 23,
      "outputs": [
        {
          "output_type": "execute_result",
          "data": {
            "text/plain": [
              "array([[  0,   0,   0,   0,   0,   1,   1,   0,   0,   0,   0,  63,  28,\n",
              "          0,   0,   0,  33,  85,   0,   0,   0,   0,   0,   0,   0,   0,\n",
              "          0,   0],\n",
              "       [  0,   0,   0,   0,   0,   2,   0,   0,  28, 126, 241, 255, 255,\n",
              "        255, 255, 255, 255, 252, 248, 111,   0,   0,   0,   2,   0,   0,\n",
              "          0,   0],\n",
              "       [  0,   0,   0,   0,   2,   0,   0, 206, 244, 251, 241, 230, 238,\n",
              "        221, 205, 230, 240, 230, 239, 251, 233, 165,   0,   0,   2,   0,\n",
              "          0,   0],\n",
              "       [  0,   0,   0,   1,   0,   0, 199, 251, 228, 234, 233, 236, 235,\n",
              "        245, 247, 237, 234, 239, 230, 230, 235, 255, 176,   0,   0,   1,\n",
              "          0,   0],\n",
              "       [  0,   0,   0,   0,   0,  81, 254, 226, 228, 239, 237, 236, 234,\n",
              "        232, 233, 235, 235, 236, 239, 237, 233, 225, 246,  73,   0,   0,\n",
              "          0,   0],\n",
              "       [  0,   0,   3,   0,   0, 255, 235, 239, 223, 234, 238, 236, 237,\n",
              "        236, 235, 235, 235, 235, 236, 235, 234, 230, 231, 255,  24,   0,\n",
              "          4,   0],\n",
              "       [  0,   0,   0,   0, 177, 239, 223, 254, 223, 232, 234, 234, 236,\n",
              "        236, 235, 235, 235, 235, 235, 234, 231, 233, 222, 246,  88,   0,\n",
              "          1,   0],\n",
              "       [  0,   0,   0,   0, 234, 239, 229, 255, 220, 232, 233, 232, 234,\n",
              "        235, 235, 235, 235, 235, 234, 233, 232, 230, 228, 254, 140,   0,\n",
              "          0,   0],\n",
              "       [  0,   0,   0,   0, 225, 240, 226, 255, 221, 227, 232, 228, 231,\n",
              "        230, 228, 229, 231, 230, 228, 228, 232, 223, 229, 244, 231,   0,\n",
              "          0,   0],\n",
              "       [  0,   0,   0,  47, 245, 231, 234, 249, 229, 221, 229, 225, 229,\n",
              "        227, 226, 227, 228, 227, 228, 229, 228, 224, 246, 240, 227,   0,\n",
              "          0,   0],\n",
              "       [  0,   0,   0,  51, 248, 230, 245, 246, 230, 226, 230, 227, 230,\n",
              "        229, 228, 229, 230, 228, 228, 231, 225, 227, 242, 237, 255,   0,\n",
              "          0,   0],\n",
              "       [  0,   0,   0, 101, 253, 229, 247, 241, 221, 233, 228, 227, 229,\n",
              "        228, 227, 228, 230, 227, 230, 234, 225, 229, 251, 229, 243,  55,\n",
              "          0,   0],\n",
              "       [  0,   0,   0, 102, 255, 227, 242, 241, 221, 234, 223, 230, 228,\n",
              "        231, 229, 231, 231, 227, 229, 241, 219, 236, 254, 225, 250, 167,\n",
              "          0,   0],\n",
              "       [  0,   0,   0,  90, 255, 229, 236, 231, 222, 236, 223, 231, 229,\n",
              "        231, 229, 231, 231, 228, 224, 245, 218, 243, 239, 227, 244, 175,\n",
              "          0,   0],\n",
              "       [  0,   0,   0, 212, 250, 225, 236, 249, 229, 237, 223, 231, 229,\n",
              "        231, 229, 231, 231, 230, 221, 243, 225, 248, 230, 236, 234, 255,\n",
              "          1,   0],\n",
              "       [  0,   0,   0, 245, 243, 232, 243, 218, 228, 238, 222, 231, 229,\n",
              "        231, 229, 231, 231, 230, 222, 237, 237, 252, 229, 239, 240, 223,\n",
              "          0,   0],\n",
              "       [  0,   0,  27, 255, 235, 242, 237, 216, 230, 236, 224, 229, 227,\n",
              "        233, 233, 233, 230, 228, 224, 230, 245, 247, 221, 243, 239, 252,\n",
              "          0,   0],\n",
              "       [  0,   0,  88, 255, 232, 248, 236, 208, 234, 231, 223, 227, 226,\n",
              "        233, 232, 232, 230, 228, 224, 224, 235, 233, 234, 247, 235, 255,\n",
              "          0,   0],\n",
              "       [  0,   0,  83, 255, 225, 250, 237, 224, 236, 229, 225, 225, 227,\n",
              "        235, 229, 231, 230, 230, 227, 221, 227, 221, 239, 250, 231, 255,\n",
              "          0,   0],\n",
              "       [  0,   0,  20, 255, 224, 248, 234, 226, 232, 222, 225, 224, 231,\n",
              "        238, 226, 230, 228, 230, 230, 221, 229, 225, 244, 246, 230, 255,\n",
              "          0,   0],\n",
              "       [  0,   0,  95, 255, 218, 242, 255, 232, 226, 224, 229, 228, 228,\n",
              "        232, 228, 229, 231, 233, 232, 226, 221, 224, 247, 244, 228, 255,\n",
              "          0,   0],\n",
              "       [  0,   0, 167, 255, 213, 235, 255,  81, 245, 251, 238, 236, 230,\n",
              "        229, 230, 229, 230, 231, 238, 240, 255, 192, 255, 239, 228, 255,\n",
              "         23,   0],\n",
              "       [  0,   0, 173, 242, 224, 233, 255,   0, 136, 226, 239, 255, 229,\n",
              "        236, 236, 234, 233, 228, 251, 248, 200,  81, 255, 237, 225, 255,\n",
              "        101,   0],\n",
              "       [  0,   0, 172, 255, 226, 233, 255,   0,   0,   0,   0,   0,   8,\n",
              "         21,  22,  21,  20,  14,   0,   0,   0,   0, 255, 238, 229, 246,\n",
              "        178,   0],\n",
              "       [  0,   0,  16, 255, 236, 238, 252,   0,   0,   0,   0,   0,   0,\n",
              "          0,   0,   0,   0,   0,   0,   0,   0,   0, 222, 244, 222, 254,\n",
              "        119,   0],\n",
              "       [  0,   0,   0,  30, 228, 242, 163,   0,   0,   0,   0,   2,   4,\n",
              "          6,   5,   5,   4,   4,   2,   0,   1,   0, 151, 251, 235, 180,\n",
              "          0,   0],\n",
              "       [  0,   0,   0,   0, 234, 255, 191,   0,  11,   0,   0,   0,   0,\n",
              "          0,   0,   0,   0,   0,   0,   0,   4,   0, 103, 246, 247,  72,\n",
              "          0,   0],\n",
              "       [  0,   0,   0,   1,  95,  77,  52,   0,   4,   0,   0,   0,   0,\n",
              "          0,   0,   0,   0,   0,   0,   0,   3,   0,  82, 237, 231,  70,\n",
              "          0,   0]], dtype=uint8)"
            ]
          },
          "metadata": {
            "tags": []
          },
          "execution_count": 23
        }
      ]
    },
    {
      "cell_type": "markdown",
      "metadata": {
        "id": "VmP-rsQKzXc9",
        "colab_type": "text"
      },
      "source": [
        "These Represent Pixel Values Row wise"
      ]
    },
    {
      "cell_type": "code",
      "metadata": {
        "id": "Wo9apUU3zedK",
        "colab_type": "code",
        "colab": {}
      },
      "source": [
        ""
      ],
      "execution_count": 0,
      "outputs": []
    }
  ]
}