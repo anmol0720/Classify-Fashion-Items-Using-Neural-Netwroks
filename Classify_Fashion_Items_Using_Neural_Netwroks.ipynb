{
  "nbformat": 4,
  "nbformat_minor": 0,
  "metadata": {
    "colab": {
      "name": "Classify Fashion Items Using Neural Netwroks",
      "provenance": [],
      "authorship_tag": "ABX9TyNjmpoRc/It+Y1sAvXj548Z",
      "include_colab_link": true
    },
    "kernelspec": {
      "name": "python3",
      "display_name": "Python 3"
    }
  },
  "cells": [
    {
      "cell_type": "markdown",
      "metadata": {
        "id": "view-in-github",
        "colab_type": "text"
      },
      "source": [
        "<a href=\"https://colab.research.google.com/github/anmol0720/Classify-Fashion-Items-Using-Neural-Netwroks/blob/master/Classify_Fashion_Items_Using_Neural_Netwroks.ipynb\" target=\"_parent\"><img src=\"https://colab.research.google.com/assets/colab-badge.svg\" alt=\"Open In Colab\"/></a>"
      ]
    },
    {
      "cell_type": "code",
      "metadata": {
        "id": "kFAlCrfsf68w",
        "colab_type": "code",
        "colab": {}
      },
      "source": [
        "import numpy as np\n",
        "import pandas as pd\n",
        "%matplotlib inline\n",
        "import matplotlib as npl\n",
        "import matplotlib.pyplot as plt"
      ],
      "execution_count": 0,
      "outputs": []
    },
    {
      "cell_type": "code",
      "metadata": {
        "id": "BlSMJqLAwnoA",
        "colab_type": "code",
        "colab": {}
      },
      "source": [
        "import tensorflow as tf"
      ],
      "execution_count": 0,
      "outputs": []
    },
    {
      "cell_type": "code",
      "metadata": {
        "id": "zvmM-mH3wqun",
        "colab_type": "code",
        "colab": {}
      },
      "source": [
        "from tensorflow import keras"
      ],
      "execution_count": 0,
      "outputs": []
    },
    {
      "cell_type": "code",
      "metadata": {
        "id": "yEcS5Gjoww7q",
        "colab_type": "code",
        "colab": {
          "base_uri": "https://localhost:8080/",
          "height": 34
        },
        "outputId": "3090ac2e-5e1a-4f09-a24e-32ae018c8702"
      },
      "source": [
        "tf.__version__"
      ],
      "execution_count": 5,
      "outputs": [
        {
          "output_type": "execute_result",
          "data": {
            "text/plain": [
              "'2.2.0-rc3'"
            ]
          },
          "metadata": {
            "tags": []
          },
          "execution_count": 5
        }
      ]
    },
    {
      "cell_type": "code",
      "metadata": {
        "id": "x24foMesw0U1",
        "colab_type": "code",
        "colab": {
          "base_uri": "https://localhost:8080/",
          "height": 34
        },
        "outputId": "31ad69c6-8434-4a86-d7b0-ef23f9a1cbc4"
      },
      "source": [
        "keras.__version__"
      ],
      "execution_count": 6,
      "outputs": [
        {
          "output_type": "execute_result",
          "data": {
            "text/plain": [
              "'2.3.0-tf'"
            ]
          },
          "metadata": {
            "tags": []
          },
          "execution_count": 6
        }
      ]
    },
    {
      "cell_type": "code",
      "metadata": {
        "id": "clpbifDtxC7G",
        "colab_type": "code",
        "colab": {}
      },
      "source": [
        "fas=keras.datasets.fashion_mnist"
      ],
      "execution_count": 0,
      "outputs": []
    },
    {
      "cell_type": "code",
      "metadata": {
        "id": "70wdet5GxXAS",
        "colab_type": "code",
        "colab": {}
      },
      "source": [
        "(x_train_t,y_train_t),(x_test,y_test)=fas.load_data()"
      ],
      "execution_count": 0,
      "outputs": []
    },
    {
      "cell_type": "code",
      "metadata": {
        "id": "l9daOEJXxqKF",
        "colab_type": "code",
        "colab": {
          "base_uri": "https://localhost:8080/",
          "height": 282
        },
        "outputId": "25e2a9ee-2b55-427a-f81c-3273eba05367"
      },
      "source": [
        "plt.imshow(x_train_t[7])"
      ],
      "execution_count": 112,
      "outputs": [
        {
          "output_type": "execute_result",
          "data": {
            "text/plain": [
              "<matplotlib.image.AxesImage at 0x7f43a5dd8668>"
            ]
          },
          "metadata": {
            "tags": []
          },
          "execution_count": 112
        },
        {
          "output_type": "display_data",
          "data": {
            "image/png": "[encoded data removed]",
            "text/plain": [
              "<Figure size 432x288 with 1 Axes>"
            ]
          },
          "metadata": {
            "tags": [],
            "needs_background": "light"
          }
        }
      ]
    },
    {
      "cell_type": "code",
      "metadata": {
        "id": "T45u1FFMyRBQ",
        "colab_type": "code",
        "colab": {
          "base_uri": "https://localhost:8080/",
          "height": 34
        },
        "outputId": "e9f26f8e-70c4-4b1f-d8c3-1343e6839631"
      },
      "source": [
        "y_train_t[7]"
      ],
      "execution_count": 113,
      "outputs": [
        {
          "output_type": "execute_result",
          "data": {
            "text/plain": [
              "2"
            ]
          },
          "metadata": {
            "tags": []
          },
          "execution_count": 113
        }
      ]
    },
    {
      "cell_type": "code",
      "metadata": {
        "id": "q-ShW-h5yZm4",
        "colab_type": "code",
        "colab": {}
      },
      "source": [
        "class_name=['T-shirt/Top','Trouser','Pullover','Dress','Coat','Sandal','Shirt','Sneaker','Bag','Ankle Boot']"
      ],
      "execution_count": 0,
      "outputs": []
    },
    {
      "cell_type": "code",
      "metadata": {
        "id": "jaAtShx-y1Vj",
        "colab_type": "code",
        "colab": {
          "base_uri": "https://localhost:8080/",
          "height": 34
        },
        "outputId": "3f4e11d6-61ef-4b75-c5fd-bc997c6cb0a4"
      },
      "source": [
        "class_name[y_train_t[7]]"
      ],
      "execution_count": 115,
      "outputs": [
        {
          "output_type": "execute_result",
          "data": {
            "text/plain": [
              "'Pullover'"
            ]
          },
          "metadata": {
            "tags": []
          },
          "execution_count": 115
        }
      ]
    },
    {
      "cell_type": "markdown",
      "metadata": {
        "id": "fF9aNksozAxf",
        "colab_type": "text"
      },
      "source": [
        "*These all Categories are Predefined*"
      ]
    },
    {
      "cell_type": "code",
      "metadata": {
        "id": "ibPI9ajty_Zi",
        "colab_type": "code",
        "colab": {
          "base_uri": "https://localhost:8080/",
          "height": 1000
        },
        "outputId": "9d2b6bf8-c4df-495f-fc82-d4cda3e1293a"
      },
      "source": [
        "x_train_t[7]"
      ],
      "execution_count": 116,
      "outputs": [
        {
          "output_type": "execute_result",
          "data": {
            "text/plain": [
              "array([[  0,   0,   0,   0,   0,   1,   1,   0,   0,   0,   0,  63,  28,\n",
              "          0,   0,   0,  33,  85,   0,   0,   0,   0,   0,   0,   0,   0,\n",
              "          0,   0],\n",
              "       [  0,   0,   0,   0,   0,   2,   0,   0,  28, 126, 241, 255, 255,\n",
              "        255, 255, 255, 255, 252, 248, 111,   0,   0,   0,   2,   0,   0,\n",
              "          0,   0],\n",
              "       [  0,   0,   0,   0,   2,   0,   0, 206, 244, 251, 241, 230, 238,\n",
              "        221, 205, 230, 240, 230, 239, 251, 233, 165,   0,   0,   2,   0,\n",
              "          0,   0],\n",
              "       [  0,   0,   0,   1,   0,   0, 199, 251, 228, 234, 233, 236, 235,\n",
              "        245, 247, 237, 234, 239, 230, 230, 235, 255, 176,   0,   0,   1,\n",
              "          0,   0],\n",
              "       [  0,   0,   0,   0,   0,  81, 254, 226, 228, 239, 237, 236, 234,\n",
              "        232, 233, 235, 235, 236, 239, 237, 233, 225, 246,  73,   0,   0,\n",
              "          0,   0],\n",
              "       [  0,   0,   3,   0,   0, 255, 235, 239, 223, 234, 238, 236, 237,\n",
              "        236, 235, 235, 235, 235, 236, 235, 234, 230, 231, 255,  24,   0,\n",
              "          4,   0],\n",
              "       [  0,   0,   0,   0, 177, 239, 223, 254, 223, 232, 234, 234, 236,\n",
              "        236, 235, 235, 235, 235, 235, 234, 231, 233, 222, 246,  88,   0,\n",
              "          1,   0],\n",
              "       [  0,   0,   0,   0, 234, 239, 229, 255, 220, 232, 233, 232, 234,\n",
              "        235, 235, 235, 235, 235, 234, 233, 232, 230, 228, 254, 140,   0,\n",
              "          0,   0],\n",
              "       [  0,   0,   0,   0, 225, 240, 226, 255, 221, 227, 232, 228, 231,\n",
              "        230, 228, 229, 231, 230, 228, 228, 232, 223, 229, 244, 231,   0,\n",
              "          0,   0],\n",
              "       [  0,   0,   0,  47, 245, 231, 234, 249, 229, 221, 229, 225, 229,\n",
              "        227, 226, 227, 228, 227, 228, 229, 228, 224, 246, 240, 227,   0,\n",
              "          0,   0],\n",
              "       [  0,   0,   0,  51, 248, 230, 245, 246, 230, 226, 230, 227, 230,\n",
              "        229, 228, 229, 230, 228, 228, 231, 225, 227, 242, 237, 255,   0,\n",
              "          0,   0],\n",
              "       [  0,   0,   0, 101, 253, 229, 247, 241, 221, 233, 228, 227, 229,\n",
              "        228, 227, 228, 230, 227, 230, 234, 225, 229, 251, 229, 243,  55,\n",
              "          0,   0],\n",
              "       [  0,   0,   0, 102, 255, 227, 242, 241, 221, 234, 223, 230, 228,\n",
              "        231, 229, 231, 231, 227, 229, 241, 219, 236, 254, 225, 250, 167,\n",
              "          0,   0],\n",
              "       [  0,   0,   0,  90, 255, 229, 236, 231, 222, 236, 223, 231, 229,\n",
              "        231, 229, 231, 231, 228, 224, 245, 218, 243, 239, 227, 244, 175,\n",
              "          0,   0],\n",
              "       [  0,   0,   0, 212, 250, 225, 236, 249, 229, 237, 223, 231, 229,\n",
              "        231, 229, 231, 231, 230, 221, 243, 225, 248, 230, 236, 234, 255,\n",
              "          1,   0],\n",
              "       [  0,   0,   0, 245, 243, 232, 243, 218, 228, 238, 222, 231, 229,\n",
              "        231, 229, 231, 231, 230, 222, 237, 237, 252, 229, 239, 240, 223,\n",
              "          0,   0],\n",
              "       [  0,   0,  27, 255, 235, 242, 237, 216, 230, 236, 224, 229, 227,\n",
              "        233, 233, 233, 230, 228, 224, 230, 245, 247, 221, 243, 239, 252,\n",
              "          0,   0],\n",
              "       [  0,   0,  88, 255, 232, 248, 236, 208, 234, 231, 223, 227, 226,\n",
              "        233, 232, 232, 230, 228, 224, 224, 235, 233, 234, 247, 235, 255,\n",
              "          0,   0],\n",
              "       [  0,   0,  83, 255, 225, 250, 237, 224, 236, 229, 225, 225, 227,\n",
              "        235, 229, 231, 230, 230, 227, 221, 227, 221, 239, 250, 231, 255,\n",
              "          0,   0],\n",
              "       [  0,   0,  20, 255, 224, 248, 234, 226, 232, 222, 225, 224, 231,\n",
              "        238, 226, 230, 228, 230, 230, 221, 229, 225, 244, 246, 230, 255,\n",
              "          0,   0],\n",
              "       [  0,   0,  95, 255, 218, 242, 255, 232, 226, 224, 229, 228, 228,\n",
              "        232, 228, 229, 231, 233, 232, 226, 221, 224, 247, 244, 228, 255,\n",
              "          0,   0],\n",
              "       [  0,   0, 167, 255, 213, 235, 255,  81, 245, 251, 238, 236, 230,\n",
              "        229, 230, 229, 230, 231, 238, 240, 255, 192, 255, 239, 228, 255,\n",
              "         23,   0],\n",
              "       [  0,   0, 173, 242, 224, 233, 255,   0, 136, 226, 239, 255, 229,\n",
              "        236, 236, 234, 233, 228, 251, 248, 200,  81, 255, 237, 225, 255,\n",
              "        101,   0],\n",
              "       [  0,   0, 172, 255, 226, 233, 255,   0,   0,   0,   0,   0,   8,\n",
              "         21,  22,  21,  20,  14,   0,   0,   0,   0, 255, 238, 229, 246,\n",
              "        178,   0],\n",
              "       [  0,   0,  16, 255, 236, 238, 252,   0,   0,   0,   0,   0,   0,\n",
              "          0,   0,   0,   0,   0,   0,   0,   0,   0, 222, 244, 222, 254,\n",
              "        119,   0],\n",
              "       [  0,   0,   0,  30, 228, 242, 163,   0,   0,   0,   0,   2,   4,\n",
              "          6,   5,   5,   4,   4,   2,   0,   1,   0, 151, 251, 235, 180,\n",
              "          0,   0],\n",
              "       [  0,   0,   0,   0, 234, 255, 191,   0,  11,   0,   0,   0,   0,\n",
              "          0,   0,   0,   0,   0,   0,   0,   4,   0, 103, 246, 247,  72,\n",
              "          0,   0],\n",
              "       [  0,   0,   0,   1,  95,  77,  52,   0,   4,   0,   0,   0,   0,\n",
              "          0,   0,   0,   0,   0,   0,   0,   3,   0,  82, 237, 231,  70,\n",
              "          0,   0]], dtype=uint8)"
            ]
          },
          "metadata": {
            "tags": []
          },
          "execution_count": 116
        }
      ]
    },
    {
      "cell_type": "markdown",
      "metadata": {
        "id": "VmP-rsQKzXc9",
        "colab_type": "text"
      },
      "source": [
        "These Represent Pixel Values Row wise"
      ]
    },
    {
      "cell_type": "markdown",
      "metadata": {
        "id": "AxF-OV8S1jpR",
        "colab_type": "text"
      },
      "source": [
        "Data Normalisation"
      ]
    },
    {
      "cell_type": "code",
      "metadata": {
        "id": "Wo9apUU3zedK",
        "colab_type": "code",
        "colab": {}
      },
      "source": [
        "x_train_n=x_train_t/255.\n",
        "x_test_n=x_test/255."
      ],
      "execution_count": 0,
      "outputs": []
    },
    {
      "cell_type": "markdown",
      "metadata": {
        "id": "xOCvdeVa15TF",
        "colab_type": "text"
      },
      "source": [
        "*255 because we know our upper bound*"
      ]
    },
    {
      "cell_type": "markdown",
      "metadata": {
        "id": "_YRN12ka25Da",
        "colab_type": "text"
      },
      "source": [
        "Split Data"
      ]
    },
    {
      "cell_type": "code",
      "metadata": {
        "id": "iI0dhWXOAgzf",
        "colab_type": "code",
        "colab": {}
      },
      "source": [
        "X_valid,X_train=x_train_n[:5000],x_train_n[5000:]"
      ],
      "execution_count": 0,
      "outputs": []
    },
    {
      "cell_type": "code",
      "metadata": {
        "id": "LaUFjxZa12xI",
        "colab_type": "code",
        "colab": {}
      },
      "source": [
        "y_valid,y_train=y_train_t[:5000],y_train_t[5000:]\n",
        "X_test=x_test_n"
      ],
      "execution_count": 0,
      "outputs": []
    },
    {
      "cell_type": "code",
      "metadata": {
        "id": "YSNigWvj_9uu",
        "colab_type": "code",
        "colab": {
          "base_uri": "https://localhost:8080/",
          "height": 34
        },
        "outputId": "379122a1-40fc-4541-9987-93d10ed26425"
      },
      "source": [
        "X_train.shape"
      ],
      "execution_count": 120,
      "outputs": [
        {
          "output_type": "execute_result",
          "data": {
            "text/plain": [
              "(55000, 28, 28)"
            ]
          },
          "metadata": {
            "tags": []
          },
          "execution_count": 120
        }
      ]
    },
    {
      "cell_type": "code",
      "metadata": {
        "id": "i4nCTDzMBuy8",
        "colab_type": "code",
        "colab": {
          "base_uri": "https://localhost:8080/",
          "height": 34
        },
        "outputId": "d7e46067-de65-41fc-edc5-a85a74c6c1ff"
      },
      "source": [
        "y_train.shape"
      ],
      "execution_count": 121,
      "outputs": [
        {
          "output_type": "execute_result",
          "data": {
            "text/plain": [
              "(55000,)"
            ]
          },
          "metadata": {
            "tags": []
          },
          "execution_count": 121
        }
      ]
    },
    {
      "cell_type": "code",
      "metadata": {
        "id": "iBJ6z3T_3isF",
        "colab_type": "code",
        "colab": {
          "base_uri": "https://localhost:8080/",
          "height": 1000
        },
        "outputId": "df5cb1a4-b1c8-4e44-bdf9-1bb4eb9cc76b"
      },
      "source": [
        "x_valid[0]"
      ],
      "execution_count": 122,
      "outputs": [
        {
          "output_type": "execute_result",
          "data": {
            "text/plain": [
              "array([[0.        , 0.        , 0.        , 0.        , 0.        ,\n",
              "        0.        , 0.        , 0.        , 0.        , 0.        ,\n",
              "        0.        , 0.        , 0.        , 0.        , 0.        ,\n",
              "        0.        , 0.        , 0.        , 0.        , 0.        ,\n",
              "        0.        , 0.        , 0.        , 0.        , 0.        ,\n",
              "        0.        , 0.        , 0.        ],\n",
              "       [0.        , 0.        , 0.        , 0.        , 0.        ,\n",
              "        0.        , 0.        , 0.        , 0.        , 0.        ,\n",
              "        0.        , 0.        , 0.        , 0.        , 0.        ,\n",
              "        0.        , 0.        , 0.        , 0.        , 0.        ,\n",
              "        0.        , 0.        , 0.        , 0.        , 0.        ,\n",
              "        0.        , 0.        , 0.        ],\n",
              "       [0.        , 0.        , 0.        , 0.        , 0.        ,\n",
              "        0.        , 0.        , 0.        , 0.        , 0.        ,\n",
              "        0.        , 0.        , 0.        , 0.        , 0.        ,\n",
              "        0.        , 0.        , 0.        , 0.        , 0.        ,\n",
              "        0.        , 0.        , 0.        , 0.        , 0.        ,\n",
              "        0.        , 0.        , 0.        ],\n",
              "       [0.        , 0.        , 0.        , 0.        , 0.        ,\n",
              "        0.        , 0.        , 0.        , 0.        , 0.        ,\n",
              "        0.        , 0.        , 0.00392157, 0.        , 0.        ,\n",
              "        0.05098039, 0.28627451, 0.        , 0.        , 0.00392157,\n",
              "        0.01568627, 0.        , 0.        , 0.        , 0.        ,\n",
              "        0.00392157, 0.00392157, 0.        ],\n",
              "       [0.        , 0.        , 0.        , 0.        , 0.        ,\n",
              "        0.        , 0.        , 0.        , 0.        , 0.        ,\n",
              "        0.        , 0.        , 0.01176471, 0.        , 0.14117647,\n",
              "        0.53333333, 0.49803922, 0.24313725, 0.21176471, 0.        ,\n",
              "        0.        , 0.        , 0.00392157, 0.01176471, 0.01568627,\n",
              "        0.        , 0.        , 0.01176471],\n",
              "       [0.        , 0.        , 0.        , 0.        , 0.        ,\n",
              "        0.        , 0.        , 0.        , 0.        , 0.        ,\n",
              "        0.        , 0.        , 0.02352941, 0.        , 0.4       ,\n",
              "        0.8       , 0.69019608, 0.5254902 , 0.56470588, 0.48235294,\n",
              "        0.09019608, 0.        , 0.        , 0.        , 0.        ,\n",
              "        0.04705882, 0.03921569, 0.        ],\n",
              "       [0.        , 0.        , 0.        , 0.        , 0.        ,\n",
              "        0.        , 0.        , 0.        , 0.        , 0.        ,\n",
              "        0.        , 0.        , 0.        , 0.        , 0.60784314,\n",
              "        0.9254902 , 0.81176471, 0.69803922, 0.41960784, 0.61176471,\n",
              "        0.63137255, 0.42745098, 0.25098039, 0.09019608, 0.30196078,\n",
              "        0.50980392, 0.28235294, 0.05882353],\n",
              "       [0.        , 0.        , 0.        , 0.        , 0.        ,\n",
              "        0.        , 0.        , 0.        , 0.        , 0.        ,\n",
              "        0.        , 0.00392157, 0.        , 0.27058824, 0.81176471,\n",
              "        0.8745098 , 0.85490196, 0.84705882, 0.84705882, 0.63921569,\n",
              "        0.49803922, 0.4745098 , 0.47843137, 0.57254902, 0.55294118,\n",
              "        0.34509804, 0.6745098 , 0.25882353],\n",
              "       [0.        , 0.        , 0.        , 0.        , 0.        ,\n",
              "        0.        , 0.        , 0.        , 0.        , 0.00392157,\n",
              "        0.00392157, 0.00392157, 0.        , 0.78431373, 0.90980392,\n",
              "        0.90980392, 0.91372549, 0.89803922, 0.8745098 , 0.8745098 ,\n",
              "        0.84313725, 0.83529412, 0.64313725, 0.49803922, 0.48235294,\n",
              "        0.76862745, 0.89803922, 0.        ],\n",
              "       [0.        , 0.        , 0.        , 0.        , 0.        ,\n",
              "        0.        , 0.        , 0.        , 0.        , 0.        ,\n",
              "        0.        , 0.        , 0.        , 0.71764706, 0.88235294,\n",
              "        0.84705882, 0.8745098 , 0.89411765, 0.92156863, 0.89019608,\n",
              "        0.87843137, 0.87058824, 0.87843137, 0.86666667, 0.8745098 ,\n",
              "        0.96078431, 0.67843137, 0.        ],\n",
              "       [0.        , 0.        , 0.        , 0.        , 0.        ,\n",
              "        0.        , 0.        , 0.        , 0.        , 0.        ,\n",
              "        0.        , 0.        , 0.        , 0.75686275, 0.89411765,\n",
              "        0.85490196, 0.83529412, 0.77647059, 0.70588235, 0.83137255,\n",
              "        0.82352941, 0.82745098, 0.83529412, 0.8745098 , 0.8627451 ,\n",
              "        0.95294118, 0.79215686, 0.        ],\n",
              "       [0.        , 0.        , 0.        , 0.        , 0.        ,\n",
              "        0.        , 0.        , 0.        , 0.        , 0.00392157,\n",
              "        0.01176471, 0.        , 0.04705882, 0.85882353, 0.8627451 ,\n",
              "        0.83137255, 0.85490196, 0.75294118, 0.6627451 , 0.89019608,\n",
              "        0.81568627, 0.85490196, 0.87843137, 0.83137255, 0.88627451,\n",
              "        0.77254902, 0.81960784, 0.20392157],\n",
              "       [0.        , 0.        , 0.        , 0.        , 0.        ,\n",
              "        0.        , 0.        , 0.        , 0.        , 0.        ,\n",
              "        0.02352941, 0.        , 0.38823529, 0.95686275, 0.87058824,\n",
              "        0.8627451 , 0.85490196, 0.79607843, 0.77647059, 0.86666667,\n",
              "        0.84313725, 0.83529412, 0.87058824, 0.8627451 , 0.96078431,\n",
              "        0.46666667, 0.65490196, 0.21960784],\n",
              "       [0.        , 0.        , 0.        , 0.        , 0.        ,\n",
              "        0.        , 0.        , 0.        , 0.        , 0.01568627,\n",
              "        0.        , 0.        , 0.21568627, 0.9254902 , 0.89411765,\n",
              "        0.90196078, 0.89411765, 0.94117647, 0.90980392, 0.83529412,\n",
              "        0.85490196, 0.8745098 , 0.91764706, 0.85098039, 0.85098039,\n",
              "        0.81960784, 0.36078431, 0.        ],\n",
              "       [0.        , 0.        , 0.00392157, 0.01568627, 0.02352941,\n",
              "        0.02745098, 0.00784314, 0.        , 0.        , 0.        ,\n",
              "        0.        , 0.        , 0.92941176, 0.88627451, 0.85098039,\n",
              "        0.8745098 , 0.87058824, 0.85882353, 0.87058824, 0.86666667,\n",
              "        0.84705882, 0.8745098 , 0.89803922, 0.84313725, 0.85490196,\n",
              "        1.        , 0.30196078, 0.        ],\n",
              "       [0.        , 0.01176471, 0.        , 0.        , 0.        ,\n",
              "        0.        , 0.        , 0.        , 0.        , 0.24313725,\n",
              "        0.56862745, 0.8       , 0.89411765, 0.81176471, 0.83529412,\n",
              "        0.86666667, 0.85490196, 0.81568627, 0.82745098, 0.85490196,\n",
              "        0.87843137, 0.8745098 , 0.85882353, 0.84313725, 0.87843137,\n",
              "        0.95686275, 0.62352941, 0.        ],\n",
              "       [0.        , 0.        , 0.        , 0.        , 0.07058824,\n",
              "        0.17254902, 0.32156863, 0.41960784, 0.74117647, 0.89411765,\n",
              "        0.8627451 , 0.87058824, 0.85098039, 0.88627451, 0.78431373,\n",
              "        0.80392157, 0.82745098, 0.90196078, 0.87843137, 0.91764706,\n",
              "        0.69019608, 0.7372549 , 0.98039216, 0.97254902, 0.91372549,\n",
              "        0.93333333, 0.84313725, 0.        ],\n",
              "       [0.        , 0.22352941, 0.73333333, 0.81568627, 0.87843137,\n",
              "        0.86666667, 0.87843137, 0.81568627, 0.8       , 0.83921569,\n",
              "        0.81568627, 0.81960784, 0.78431373, 0.62352941, 0.96078431,\n",
              "        0.75686275, 0.80784314, 0.8745098 , 1.        , 1.        ,\n",
              "        0.86666667, 0.91764706, 0.86666667, 0.82745098, 0.8627451 ,\n",
              "        0.90980392, 0.96470588, 0.        ],\n",
              "       [0.01176471, 0.79215686, 0.89411765, 0.87843137, 0.86666667,\n",
              "        0.82745098, 0.82745098, 0.83921569, 0.80392157, 0.80392157,\n",
              "        0.80392157, 0.8627451 , 0.94117647, 0.31372549, 0.58823529,\n",
              "        1.        , 0.89803922, 0.86666667, 0.7372549 , 0.60392157,\n",
              "        0.74901961, 0.82352941, 0.8       , 0.81960784, 0.87058824,\n",
              "        0.89411765, 0.88235294, 0.        ],\n",
              "       [0.38431373, 0.91372549, 0.77647059, 0.82352941, 0.87058824,\n",
              "        0.89803922, 0.89803922, 0.91764706, 0.97647059, 0.8627451 ,\n",
              "        0.76078431, 0.84313725, 0.85098039, 0.94509804, 0.25490196,\n",
              "        0.28627451, 0.41568627, 0.45882353, 0.65882353, 0.85882353,\n",
              "        0.86666667, 0.84313725, 0.85098039, 0.8745098 , 0.8745098 ,\n",
              "        0.87843137, 0.89803922, 0.11372549],\n",
              "       [0.29411765, 0.8       , 0.83137255, 0.8       , 0.75686275,\n",
              "        0.80392157, 0.82745098, 0.88235294, 0.84705882, 0.7254902 ,\n",
              "        0.77254902, 0.80784314, 0.77647059, 0.83529412, 0.94117647,\n",
              "        0.76470588, 0.89019608, 0.96078431, 0.9372549 , 0.8745098 ,\n",
              "        0.85490196, 0.83137255, 0.81960784, 0.87058824, 0.8627451 ,\n",
              "        0.86666667, 0.90196078, 0.2627451 ],\n",
              "       [0.18823529, 0.79607843, 0.71764706, 0.76078431, 0.83529412,\n",
              "        0.77254902, 0.7254902 , 0.74509804, 0.76078431, 0.75294118,\n",
              "        0.79215686, 0.83921569, 0.85882353, 0.86666667, 0.8627451 ,\n",
              "        0.9254902 , 0.88235294, 0.84705882, 0.78039216, 0.80784314,\n",
              "        0.72941176, 0.70980392, 0.69411765, 0.6745098 , 0.70980392,\n",
              "        0.80392157, 0.80784314, 0.45098039],\n",
              "       [0.        , 0.47843137, 0.85882353, 0.75686275, 0.70196078,\n",
              "        0.67058824, 0.71764706, 0.76862745, 0.8       , 0.82352941,\n",
              "        0.83529412, 0.81176471, 0.82745098, 0.82352941, 0.78431373,\n",
              "        0.76862745, 0.76078431, 0.74901961, 0.76470588, 0.74901961,\n",
              "        0.77647059, 0.75294118, 0.69019608, 0.61176471, 0.65490196,\n",
              "        0.69411765, 0.82352941, 0.36078431],\n",
              "       [0.        , 0.        , 0.29019608, 0.74117647, 0.83137255,\n",
              "        0.74901961, 0.68627451, 0.6745098 , 0.68627451, 0.70980392,\n",
              "        0.7254902 , 0.7372549 , 0.74117647, 0.7372549 , 0.75686275,\n",
              "        0.77647059, 0.8       , 0.81960784, 0.82352941, 0.82352941,\n",
              "        0.82745098, 0.7372549 , 0.7372549 , 0.76078431, 0.75294118,\n",
              "        0.84705882, 0.66666667, 0.        ],\n",
              "       [0.00784314, 0.        , 0.        , 0.        , 0.25882353,\n",
              "        0.78431373, 0.87058824, 0.92941176, 0.9372549 , 0.94901961,\n",
              "        0.96470588, 0.95294118, 0.95686275, 0.86666667, 0.8627451 ,\n",
              "        0.75686275, 0.74901961, 0.70196078, 0.71372549, 0.71372549,\n",
              "        0.70980392, 0.69019608, 0.65098039, 0.65882353, 0.38823529,\n",
              "        0.22745098, 0.        , 0.        ],\n",
              "       [0.        , 0.        , 0.        , 0.        , 0.        ,\n",
              "        0.        , 0.        , 0.15686275, 0.23921569, 0.17254902,\n",
              "        0.28235294, 0.16078431, 0.1372549 , 0.        , 0.        ,\n",
              "        0.        , 0.        , 0.        , 0.        , 0.        ,\n",
              "        0.        , 0.        , 0.        , 0.        , 0.        ,\n",
              "        0.        , 0.        , 0.        ],\n",
              "       [0.        , 0.        , 0.        , 0.        , 0.        ,\n",
              "        0.        , 0.        , 0.        , 0.        , 0.        ,\n",
              "        0.        , 0.        , 0.        , 0.        , 0.        ,\n",
              "        0.        , 0.        , 0.        , 0.        , 0.        ,\n",
              "        0.        , 0.        , 0.        , 0.        , 0.        ,\n",
              "        0.        , 0.        , 0.        ],\n",
              "       [0.        , 0.        , 0.        , 0.        , 0.        ,\n",
              "        0.        , 0.        , 0.        , 0.        , 0.        ,\n",
              "        0.        , 0.        , 0.        , 0.        , 0.        ,\n",
              "        0.        , 0.        , 0.        , 0.        , 0.        ,\n",
              "        0.        , 0.        , 0.        , 0.        , 0.        ,\n",
              "        0.        , 0.        , 0.        ]])"
            ]
          },
          "metadata": {
            "tags": []
          },
          "execution_count": 122
        }
      ]
    },
    {
      "cell_type": "code",
      "metadata": {
        "id": "f2cA_7Kb3rx5",
        "colab_type": "code",
        "colab": {}
      },
      "source": [
        "np.random.seed(42)\n",
        "tf.random.set_seed(42)"
      ],
      "execution_count": 0,
      "outputs": []
    },
    {
      "cell_type": "code",
      "metadata": {
        "id": "WUtRXQuw7X8b",
        "colab_type": "code",
        "colab": {}
      },
      "source": [
        "model=keras.models.Sequential()\n",
        "model.add(keras.layers.Flatten(input_shape=[28*28]))\n",
        "model.add(keras.layers.Dense(300,activation='relu'))\n",
        "model.add(keras.layers.Dense(100,activation='relu'))\n",
        "model.add(keras.layers.Dense(10,activation='softmax'))"
      ],
      "execution_count": 0,
      "outputs": []
    },
    {
      "cell_type": "code",
      "metadata": {
        "id": "27ObT7hJ8Mhd",
        "colab_type": "code",
        "colab": {
          "base_uri": "https://localhost:8080/",
          "height": 298
        },
        "outputId": "e989cc24-f454-44b4-aeb4-73e77e6dcdfa"
      },
      "source": [
        "model.summary()"
      ],
      "execution_count": 126,
      "outputs": [
        {
          "output_type": "stream",
          "text": [
            "Model: \"sequential_4\"\n",
            "_________________________________________________________________\n",
            "Layer (type)                 Output Shape              Param #   \n",
            "=================================================================\n",
            "flatten_4 (Flatten)          (None, 784)               0         \n",
            "_________________________________________________________________\n",
            "dense_12 (Dense)             (None, 300)               235500    \n",
            "_________________________________________________________________\n",
            "dense_13 (Dense)             (None, 100)               30100     \n",
            "_________________________________________________________________\n",
            "dense_14 (Dense)             (None, 10)                1010      \n",
            "=================================================================\n",
            "Total params: 266,610\n",
            "Trainable params: 266,610\n",
            "Non-trainable params: 0\n",
            "_________________________________________________________________\n"
          ],
          "name": "stdout"
        }
      ]
    },
    {
      "cell_type": "code",
      "metadata": {
        "id": "hOs-JMYd8TA0",
        "colab_type": "code",
        "colab": {
          "base_uri": "https://localhost:8080/",
          "height": 466
        },
        "outputId": "18f34287-87d6-4fa5-d683-7b50aacfe7c1"
      },
      "source": [
        "import pydot\n",
        "keras.utils.plot_model(model)"
      ],
      "execution_count": 127,
      "outputs": [
        {
          "output_type": "execute_result",
          "data": {
            "image/png": "[encoded data removed]",
            "text/plain": [
              "<IPython.core.display.Image object>"
            ]
          },
          "metadata": {
            "tags": []
          },
          "execution_count": 127
        }
      ]
    },
    {
      "cell_type": "code",
      "metadata": {
        "id": "ePD72Tza9Gxp",
        "colab_type": "code",
        "colab": {}
      },
      "source": [
        "weights,biases=model.layers[1].get_weights()"
      ],
      "execution_count": 0,
      "outputs": []
    },
    {
      "cell_type": "code",
      "metadata": {
        "id": "pJSgI8qF9TI8",
        "colab_type": "code",
        "colab": {
          "base_uri": "https://localhost:8080/",
          "height": 246
        },
        "outputId": "712adc36-5941-415e-d358-8b2dbecef98f"
      },
      "source": [
        "weights"
      ],
      "execution_count": 129,
      "outputs": [
        {
          "output_type": "execute_result",
          "data": {
            "text/plain": [
              "array([[ 0.03574536, -0.02389931,  0.01030421, ..., -0.06151724,\n",
              "        -0.0451347 ,  0.03140047],\n",
              "       [-0.05467119,  0.04656268, -0.07248728, ..., -0.07038655,\n",
              "        -0.03083268, -0.06513114],\n",
              "       [-0.03234808, -0.00317231,  0.04102226, ..., -0.03237895,\n",
              "         0.01965773, -0.00825518],\n",
              "       ...,\n",
              "       [-0.0630435 ,  0.07371157, -0.05752673, ...,  0.07049479,\n",
              "         0.05577183, -0.02518321],\n",
              "       [-0.02547856,  0.07304457,  0.04983643, ..., -0.05780029,\n",
              "         0.07438232, -0.0286764 ],\n",
              "       [-0.02862201,  0.01245171, -0.04573321, ...,  0.04891213,\n",
              "        -0.06256616, -0.02975626]], dtype=float32)"
            ]
          },
          "metadata": {
            "tags": []
          },
          "execution_count": 129
        }
      ]
    },
    {
      "cell_type": "code",
      "metadata": {
        "id": "YdSDksyL9VKQ",
        "colab_type": "code",
        "colab": {
          "base_uri": "https://localhost:8080/",
          "height": 34
        },
        "outputId": "af43bdb7-9b56-4c47-bfd1-4800e30bda1c"
      },
      "source": [
        "weights.shape"
      ],
      "execution_count": 130,
      "outputs": [
        {
          "output_type": "execute_result",
          "data": {
            "text/plain": [
              "(784, 300)"
            ]
          },
          "metadata": {
            "tags": []
          },
          "execution_count": 130
        }
      ]
    },
    {
      "cell_type": "code",
      "metadata": {
        "id": "oH_crx3X9X7F",
        "colab_type": "code",
        "colab": {
          "base_uri": "https://localhost:8080/",
          "height": 334
        },
        "outputId": "4719cc3d-d66b-45d2-8a1a-04c795ac5171"
      },
      "source": [
        "biases"
      ],
      "execution_count": 131,
      "outputs": [
        {
          "output_type": "execute_result",
          "data": {
            "text/plain": [
              "array([0., 0., 0., 0., 0., 0., 0., 0., 0., 0., 0., 0., 0., 0., 0., 0., 0.,\n",
              "       0., 0., 0., 0., 0., 0., 0., 0., 0., 0., 0., 0., 0., 0., 0., 0., 0.,\n",
              "       0., 0., 0., 0., 0., 0., 0., 0., 0., 0., 0., 0., 0., 0., 0., 0., 0.,\n",
              "       0., 0., 0., 0., 0., 0., 0., 0., 0., 0., 0., 0., 0., 0., 0., 0., 0.,\n",
              "       0., 0., 0., 0., 0., 0., 0., 0., 0., 0., 0., 0., 0., 0., 0., 0., 0.,\n",
              "       0., 0., 0., 0., 0., 0., 0., 0., 0., 0., 0., 0., 0., 0., 0., 0., 0.,\n",
              "       0., 0., 0., 0., 0., 0., 0., 0., 0., 0., 0., 0., 0., 0., 0., 0., 0.,\n",
              "       0., 0., 0., 0., 0., 0., 0., 0., 0., 0., 0., 0., 0., 0., 0., 0., 0.,\n",
              "       0., 0., 0., 0., 0., 0., 0., 0., 0., 0., 0., 0., 0., 0., 0., 0., 0.,\n",
              "       0., 0., 0., 0., 0., 0., 0., 0., 0., 0., 0., 0., 0., 0., 0., 0., 0.,\n",
              "       0., 0., 0., 0., 0., 0., 0., 0., 0., 0., 0., 0., 0., 0., 0., 0., 0.,\n",
              "       0., 0., 0., 0., 0., 0., 0., 0., 0., 0., 0., 0., 0., 0., 0., 0., 0.,\n",
              "       0., 0., 0., 0., 0., 0., 0., 0., 0., 0., 0., 0., 0., 0., 0., 0., 0.,\n",
              "       0., 0., 0., 0., 0., 0., 0., 0., 0., 0., 0., 0., 0., 0., 0., 0., 0.,\n",
              "       0., 0., 0., 0., 0., 0., 0., 0., 0., 0., 0., 0., 0., 0., 0., 0., 0.,\n",
              "       0., 0., 0., 0., 0., 0., 0., 0., 0., 0., 0., 0., 0., 0., 0., 0., 0.,\n",
              "       0., 0., 0., 0., 0., 0., 0., 0., 0., 0., 0., 0., 0., 0., 0., 0., 0.,\n",
              "       0., 0., 0., 0., 0., 0., 0., 0., 0., 0., 0.], dtype=float32)"
            ]
          },
          "metadata": {
            "tags": []
          },
          "execution_count": 131
        }
      ]
    },
    {
      "cell_type": "code",
      "metadata": {
        "id": "pigQ1mz19a3Z",
        "colab_type": "code",
        "colab": {
          "base_uri": "https://localhost:8080/",
          "height": 34
        },
        "outputId": "f59cd49b-8e01-4920-8ac2-2fc8dd890c0b"
      },
      "source": [
        "biases.shape"
      ],
      "execution_count": 132,
      "outputs": [
        {
          "output_type": "execute_result",
          "data": {
            "text/plain": [
              "(300,)"
            ]
          },
          "metadata": {
            "tags": []
          },
          "execution_count": 132
        }
      ]
    },
    {
      "cell_type": "code",
      "metadata": {
        "id": "JNjgi01--GgK",
        "colab_type": "code",
        "colab": {}
      },
      "source": [
        "model.compile(loss='sparse_categorical_crossentropy',\n",
        "              optimizer='sgd',\n",
        "              metrics=['accuracy'])"
      ],
      "execution_count": 0,
      "outputs": []
    },
    {
      "cell_type": "code",
      "metadata": {
        "id": "R9Uagcqe-uCq",
        "colab_type": "code",
        "colab": {
          "base_uri": "https://localhost:8080/",
          "height": 1000
        },
        "outputId": "030f4dc6-f331-453c-d597-6e9aae02ec69"
      },
      "source": [
        "model_history=model.fit(X_train,y_train,epochs=30,\n",
        "                        validation_data=(X_valid[:5000],y_valid))"
      ],
      "execution_count": 135,
      "outputs": [
        {
          "output_type": "stream",
          "text": [
            "Epoch 1/30\n",
            "WARNING:tensorflow:Model was constructed with shape (None, 784) for input Tensor(\"flatten_4_input:0\", shape=(None, 784), dtype=float32), but it was called on an input with incompatible shape (None, 28, 28).\n",
            "WARNING:tensorflow:Model was constructed with shape (None, 784) for input Tensor(\"flatten_4_input:0\", shape=(None, 784), dtype=float32), but it was called on an input with incompatible shape (None, 28, 28).\n",
            "1708/1719 [============================>.] - ETA: 0s - loss: 0.7029 - accuracy: 0.7686WARNING:tensorflow:Model was constructed with shape (None, 784) for input Tensor(\"flatten_4_input:0\", shape=(None, 784), dtype=float32), but it was called on an input with incompatible shape (None, 28, 28).\n",
            "1719/1719 [==============================] - 5s 3ms/step - loss: 0.7013 - accuracy: 0.7692 - val_loss: 0.5171 - val_accuracy: 0.8196\n",
            "Epoch 2/30\n",
            "1719/1719 [==============================] - 5s 3ms/step - loss: 0.4859 - accuracy: 0.8299 - val_loss: 0.4341 - val_accuracy: 0.8496\n",
            "Epoch 3/30\n",
            "1719/1719 [==============================] - 5s 3ms/step - loss: 0.4430 - accuracy: 0.8439 - val_loss: 0.5362 - val_accuracy: 0.7988\n",
            "Epoch 4/30\n",
            "1719/1719 [==============================] - 5s 3ms/step - loss: 0.4165 - accuracy: 0.8551 - val_loss: 0.3947 - val_accuracy: 0.8642\n",
            "Epoch 5/30\n",
            "1719/1719 [==============================] - 5s 3ms/step - loss: 0.3981 - accuracy: 0.8612 - val_loss: 0.3776 - val_accuracy: 0.8666\n",
            "Epoch 6/30\n",
            "1719/1719 [==============================] - 5s 3ms/step - loss: 0.3793 - accuracy: 0.8666 - val_loss: 0.3709 - val_accuracy: 0.8716\n",
            "Epoch 7/30\n",
            "1719/1719 [==============================] - 5s 3ms/step - loss: 0.3668 - accuracy: 0.8715 - val_loss: 0.3621 - val_accuracy: 0.8750\n",
            "Epoch 8/30\n",
            "1719/1719 [==============================] - 5s 3ms/step - loss: 0.3556 - accuracy: 0.8744 - val_loss: 0.3935 - val_accuracy: 0.8582\n",
            "Epoch 9/30\n",
            "1719/1719 [==============================] - 5s 3ms/step - loss: 0.3449 - accuracy: 0.8794 - val_loss: 0.3540 - val_accuracy: 0.8726\n",
            "Epoch 10/30\n",
            "1719/1719 [==============================] - 5s 3ms/step - loss: 0.3359 - accuracy: 0.8806 - val_loss: 0.3488 - val_accuracy: 0.8756\n",
            "Epoch 11/30\n",
            "1719/1719 [==============================] - 5s 3ms/step - loss: 0.3273 - accuracy: 0.8840 - val_loss: 0.3414 - val_accuracy: 0.8760\n",
            "Epoch 12/30\n",
            "1719/1719 [==============================] - 5s 3ms/step - loss: 0.3179 - accuracy: 0.8863 - val_loss: 0.3336 - val_accuracy: 0.8804\n",
            "Epoch 13/30\n",
            "1719/1719 [==============================] - 5s 3ms/step - loss: 0.3108 - accuracy: 0.8888 - val_loss: 0.3287 - val_accuracy: 0.8868\n",
            "Epoch 14/30\n",
            "1719/1719 [==============================] - 5s 3ms/step - loss: 0.3049 - accuracy: 0.8909 - val_loss: 0.3464 - val_accuracy: 0.8732\n",
            "Epoch 15/30\n",
            "1719/1719 [==============================] - 5s 3ms/step - loss: 0.2971 - accuracy: 0.8933 - val_loss: 0.3272 - val_accuracy: 0.8814\n",
            "Epoch 16/30\n",
            "1719/1719 [==============================] - 5s 3ms/step - loss: 0.2921 - accuracy: 0.8953 - val_loss: 0.3108 - val_accuracy: 0.8840\n",
            "Epoch 17/30\n",
            "1719/1719 [==============================] - 5s 3ms/step - loss: 0.2868 - accuracy: 0.8971 - val_loss: 0.3591 - val_accuracy: 0.8712\n",
            "Epoch 18/30\n",
            "1719/1719 [==============================] - 5s 3ms/step - loss: 0.2806 - accuracy: 0.8989 - val_loss: 0.3186 - val_accuracy: 0.8866\n",
            "Epoch 19/30\n",
            "1719/1719 [==============================] - 5s 3ms/step - loss: 0.2757 - accuracy: 0.9012 - val_loss: 0.3154 - val_accuracy: 0.8844\n",
            "Epoch 20/30\n",
            "1719/1719 [==============================] - 5s 3ms/step - loss: 0.2704 - accuracy: 0.9030 - val_loss: 0.3252 - val_accuracy: 0.8824\n",
            "Epoch 21/30\n",
            "1719/1719 [==============================] - 5s 3ms/step - loss: 0.2659 - accuracy: 0.9045 - val_loss: 0.3084 - val_accuracy: 0.8870\n",
            "Epoch 22/30\n",
            "1719/1719 [==============================] - 5s 3ms/step - loss: 0.2610 - accuracy: 0.9068 - val_loss: 0.2981 - val_accuracy: 0.8910\n",
            "Epoch 23/30\n",
            "1719/1719 [==============================] - 5s 3ms/step - loss: 0.2563 - accuracy: 0.9081 - val_loss: 0.3027 - val_accuracy: 0.8888\n",
            "Epoch 24/30\n",
            "1719/1719 [==============================] - 5s 3ms/step - loss: 0.2523 - accuracy: 0.9088 - val_loss: 0.3126 - val_accuracy: 0.8832\n",
            "Epoch 25/30\n",
            "1719/1719 [==============================] - 5s 3ms/step - loss: 0.2480 - accuracy: 0.9103 - val_loss: 0.3019 - val_accuracy: 0.8898\n",
            "Epoch 26/30\n",
            "1719/1719 [==============================] - 5s 3ms/step - loss: 0.2439 - accuracy: 0.9127 - val_loss: 0.3035 - val_accuracy: 0.8888\n",
            "Epoch 27/30\n",
            "1719/1719 [==============================] - 5s 3ms/step - loss: 0.2400 - accuracy: 0.9147 - val_loss: 0.3022 - val_accuracy: 0.8902\n",
            "Epoch 28/30\n",
            "1719/1719 [==============================] - 5s 3ms/step - loss: 0.2365 - accuracy: 0.9151 - val_loss: 0.3002 - val_accuracy: 0.8904\n",
            "Epoch 29/30\n",
            "1719/1719 [==============================] - 5s 3ms/step - loss: 0.2326 - accuracy: 0.9170 - val_loss: 0.3087 - val_accuracy: 0.8846\n",
            "Epoch 30/30\n",
            "1719/1719 [==============================] - 5s 3ms/step - loss: 0.2291 - accuracy: 0.9178 - val_loss: 0.3069 - val_accuracy: 0.8884\n"
          ],
          "name": "stdout"
        }
      ]
    }
  ]
}